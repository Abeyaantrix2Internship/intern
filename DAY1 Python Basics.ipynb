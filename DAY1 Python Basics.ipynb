{
 "cells": [
  {
   "cell_type": "code",
   "execution_count": 1,
   "metadata": {},
   "outputs": [
    {
     "name": "stdout",
     "output_type": "stream",
     "text": [
      " WELCOME to Abeyaantrix softlab\n"
     ]
    }
   ],
   "source": [
    "print(' WELCOME to Abeyaantrix softlab')"
   ]
  },
  {
   "cell_type": "code",
   "execution_count": 5,
   "metadata": {},
   "outputs": [
    {
     "name": "stdout",
     "output_type": "stream",
     "text": [
      "3\n"
     ]
    }
   ],
   "source": [
    "A=1\n",
    "B=2\n",
    "C=A+B\n",
    "print(C)"
   ]
  },
  {
   "cell_type": "code",
   "execution_count": 6,
   "metadata": {},
   "outputs": [],
   "source": [
    "# used for comments\n",
    "# ctrl+enter executes cell in JUpyter notebook\n",
    "# shift +enter execute cell and create new cell if no cell present below\n",
    "# Alt +enter executes cell and creates new cell always"
   ]
  },
  {
   "cell_type": "code",
   "execution_count": 7,
   "metadata": {},
   "outputs": [
    {
     "ename": "SyntaxError",
     "evalue": "invalid syntax (<ipython-input-7-87b981221ba2>, line 2)",
     "output_type": "error",
     "traceback": [
      "\u001b[1;36m  File \u001b[1;32m\"<ipython-input-7-87b981221ba2>\"\u001b[1;36m, line \u001b[1;32m2\u001b[0m\n\u001b[1;33m    ml, ai APPLICATION PYTHON\u001b[0m\n\u001b[1;37m                     ^\u001b[0m\n\u001b[1;31mSyntaxError\u001b[0m\u001b[1;31m:\u001b[0m invalid syntax\n"
     ]
    }
   ],
   "source": [
    "# Python what is Python\n",
    "ml, ai APPLICATION PYTHON\n",
    "EASIER LEARN\n",
    "aUTOMATION\n",
    "ds, dATA VISULIZATION\n",
    "\n",
    "# open source programming language\n",
    "application oriented lib, open source community\n",
    "\n",
    "APPLICATION DEV pace increase\n",
    "Rapid prototyping\n",
    "\n",
    "\n",
    "Integration with java, .net much easier\n",
    "\n",
    "\n",
    "Areas of application\n",
    "IoT, device control, \n",
    "WEBsite design, DEVE, UI\n",
    "Cloud computing\n",
    "AI\n",
    "\n",
    "simple syntaxes\n",
    "and support OOP\n",
    "\n",
    "\n",
    "GOOGLE, FACEBOOK\n",
    "server side programming with C++\n",
    "ALL that codes are replaced Python\n",
    "\n",
    "updation is easier\n",
    "\n",
    "DROPBOX : \n",
    "    \n",
    "    Guido van rossum"
   ]
  },
  {
   "cell_type": "code",
   "execution_count": null,
   "metadata": {},
   "outputs": [],
   "source": [
    "# Dynamic memory allocation\n",
    "#during the compilation the memory has to be allocated\n"
   ]
  },
  {
   "cell_type": "code",
   "execution_count": 10,
   "metadata": {},
   "outputs": [],
   "source": [
    "a=5 #int"
   ]
  },
  {
   "cell_type": "code",
   "execution_count": 11,
   "metadata": {},
   "outputs": [],
   "source": [
    "b='Navya' # string"
   ]
  },
  {
   "cell_type": "code",
   "execution_count": 12,
   "metadata": {},
   "outputs": [
    {
     "data": {
      "text/plain": [
       "int"
      ]
     },
     "execution_count": 12,
     "metadata": {},
     "output_type": "execute_result"
    }
   ],
   "source": [
    "type(a)"
   ]
  },
  {
   "cell_type": "code",
   "execution_count": 13,
   "metadata": {},
   "outputs": [
    {
     "data": {
      "text/plain": [
       "str"
      ]
     },
     "execution_count": 13,
     "metadata": {},
     "output_type": "execute_result"
    }
   ],
   "source": [
    "type(b)\n"
   ]
  },
  {
   "cell_type": "code",
   "execution_count": 15,
   "metadata": {},
   "outputs": [
    {
     "data": {
      "text/plain": [
       "bool"
      ]
     },
     "execution_count": 15,
     "metadata": {},
     "output_type": "execute_result"
    }
   ],
   "source": [
    "C=False #1\n",
    "type(C)"
   ]
  },
  {
   "cell_type": "code",
   "execution_count": 16,
   "metadata": {},
   "outputs": [
    {
     "data": {
      "text/plain": [
       "float"
      ]
     },
     "execution_count": 16,
     "metadata": {},
     "output_type": "execute_result"
    }
   ],
   "source": [
    "H=12.34\n",
    "type(H)"
   ]
  },
  {
   "cell_type": "markdown",
   "metadata": {},
   "source": [
    "## Keywords"
   ]
  },
  {
   "cell_type": "code",
   "execution_count": null,
   "metadata": {},
   "outputs": [],
   "source": [
    "# keywords are reserved words in Programming languages, these should not be used as variables\n",
    "True, False, def\n",
    "import, break, if, else, elif, for while, try, \n",
    "\n",
    "33 in python"
   ]
  },
  {
   "cell_type": "markdown",
   "metadata": {},
   "source": [
    "## Identfiers"
   ]
  },
  {
   "cell_type": "code",
   "execution_count": null,
   "metadata": {},
   "outputs": [],
   "source": [
    "#are the names given to a variable, function, class to identify that entity\n",
    "Alphanumeric\n",
    "_"
   ]
  },
  {
   "cell_type": "code",
   "execution_count": 17,
   "metadata": {},
   "outputs": [
    {
     "name": "stdout",
     "output_type": "stream",
     "text": [
      "6\n"
     ]
    }
   ],
   "source": [
    "#\n",
    "a=1;b=2;c=3;\n",
    "print(a*b*c)"
   ]
  },
  {
   "cell_type": "code",
   "execution_count": 18,
   "metadata": {},
   "outputs": [
    {
     "ename": "SyntaxError",
     "evalue": "can't assign to literal (<ipython-input-18-a9e6cee219dc>, line 2)",
     "output_type": "error",
     "traceback": [
      "\u001b[1;36m  File \u001b[1;32m\"<ipython-input-18-a9e6cee219dc>\"\u001b[1;36m, line \u001b[1;32m2\u001b[0m\n\u001b[1;33m    a=1,b=2,c=5,\u001b[0m\n\u001b[1;37m     ^\u001b[0m\n\u001b[1;31mSyntaxError\u001b[0m\u001b[1;31m:\u001b[0m can't assign to literal\n"
     ]
    }
   ],
   "source": [
    "#\n",
    "a=1,b=2,c=5,\n",
    "print(a*b*c)"
   ]
  },
  {
   "cell_type": "code",
   "execution_count": 23,
   "metadata": {},
   "outputs": [],
   "source": [
    "# python identation\n",
    " #all the codes except body of the flow constructs, \n",
    "#functions has to start with first colummn\n"
   ]
  },
  {
   "cell_type": "code",
   "execution_count": 33,
   "metadata": {},
   "outputs": [
    {
     "data": {
      "text/plain": [
       "' hello this statement\\n    is a comment '"
      ]
     },
     "execution_count": 33,
     "metadata": {},
     "output_type": "execute_result"
    }
   ],
   "source": [
    "\"\"\" hello this statement\n",
    "    is a comment \"\"\"\n",
    "#print('PESIT')\n",
    "#a=2\n"
   ]
  },
  {
   "cell_type": "markdown",
   "metadata": {},
   "source": [
    "### python flow constructs"
   ]
  },
  {
   "cell_type": "code",
   "execution_count": null,
   "metadata": {},
   "outputs": [],
   "source": [
    "# if condition\n",
    "#if condition:\n",
    "#    statements #give 1 space for writing statemetn\n"
   ]
  },
  {
   "cell_type": "code",
   "execution_count": 36,
   "metadata": {},
   "outputs": [],
   "source": [
    "A=10\n",
    "if A>50:\n",
    "    print('PESIT')"
   ]
  },
  {
   "cell_type": "code",
   "execution_count": null,
   "metadata": {},
   "outputs": [],
   "source": [
    "#input  function to get inputs at the runtime"
   ]
  },
  {
   "cell_type": "code",
   "execution_count": 39,
   "metadata": {},
   "outputs": [
    {
     "name": "stdout",
     "output_type": "stream",
     "text": [
      "Temp is very hot\n"
     ]
    }
   ],
   "source": [
    "T=50\n",
    "if T>40:\n",
    "    print('Temp is very hot')\n",
    "else :\n",
    "    print('Temp is normal')"
   ]
  },
  {
   "cell_type": "code",
   "execution_count": 44,
   "metadata": {},
   "outputs": [
    {
     "name": "stdout",
     "output_type": "stream",
     "text": [
      "enter the temperature temp=50\n",
      "<class 'int'>\n",
      "Temp is very hot\n"
     ]
    }
   ],
   "source": [
    "Temp=int(input('enter the temperature temp='))\n",
    "print(type(Temp))\n",
    "\n",
    "if Temp>40:\n",
    "    print('Temp is very hot')\n",
    "else :\n",
    "    print('Temp is normal')"
   ]
  },
  {
   "cell_type": "code",
   "execution_count": 43,
   "metadata": {},
   "outputs": [
    {
     "name": "stdout",
     "output_type": "stream",
     "text": [
      "50 <class 'int'>\n",
      "<class 'str'> 50\n"
     ]
    }
   ],
   "source": [
    "a=50\n",
    "print(a,type(a))\n",
    "a=str(a)\n",
    "print(type(a), a)"
   ]
  },
  {
   "cell_type": "code",
   "execution_count": 45,
   "metadata": {},
   "outputs": [
    {
     "name": "stdout",
     "output_type": "stream",
     "text": [
      "enter the temperature temp=15\n",
      "<class 'int'>\n",
      " Cold\n"
     ]
    }
   ],
   "source": [
    "# if elif else\n",
    "Temp=int(input('enter the temperature temp='))\n",
    "print(type(Temp))\n",
    "\n",
    "if Temp>40:\n",
    "    print('Temp is very hot')\n",
    "elif Temp>20 and Temp<40 :\n",
    "    print('Temp is normal')\n",
    "elif Temp<=20 and  Temp>5:\n",
    "    print(' Temp is Cold')\n",
    "else:\n",
    "    print('Temp  Very cold/ chilled')"
   ]
  },
  {
   "cell_type": "code",
   "execution_count": null,
   "metadata": {},
   "outputs": [],
   "source": [
    "# temp and HUmidity\n",
    "Weather station results\n",
    "Accept Temp and Humidity as input\n",
    "based on these 2 values mention Weather as \n",
    "GOOD,    20-35   30-70\n",
    "BAD      >20 >40  >65 <30\n",
    "VERYBAD, \n",
    "VERYGOOD 23-30   40-60"
   ]
  },
  {
   "cell_type": "code",
   "execution_count": 46,
   "metadata": {},
   "outputs": [
    {
     "name": "stdout",
     "output_type": "stream",
     "text": [
      "0\n",
      "1\n",
      "2\n",
      "3\n",
      "4\n",
      "5\n",
      "6\n",
      "7\n",
      "8\n",
      "9\n"
     ]
    }
   ],
   "source": [
    "#for loop\n",
    "#for inc/dec init end condtion\n",
    "# Lists, tuple, dictionary, arrays\n",
    "for i in range(10):\n",
    "    print(i)"
   ]
  },
  {
   "cell_type": "code",
   "execution_count": 47,
   "metadata": {},
   "outputs": [
    {
     "name": "stdout",
     "output_type": "stream",
     "text": [
      "1\n",
      "2\n",
      "3\n",
      "4\n",
      "5\n",
      "6\n",
      "7\n",
      "8\n",
      "9\n"
     ]
    }
   ],
   "source": [
    "for i in range(1,10):\n",
    "    print(i)"
   ]
  },
  {
   "cell_type": "code",
   "execution_count": 54,
   "metadata": {},
   "outputs": [
    {
     "name": "stdout",
     "output_type": "stream",
     "text": [
      "1\n",
      "3\n",
      "5\n",
      "7\n",
      "9\n"
     ]
    }
   ],
   "source": [
    "for i in range(1,10,2):\n",
    "    print(i)"
   ]
  },
  {
   "cell_type": "code",
   "execution_count": 52,
   "metadata": {},
   "outputs": [
    {
     "name": "stdout",
     "output_type": "stream",
     "text": [
      "10\n",
      "9\n",
      "8\n",
      "7\n",
      "6\n",
      "5\n",
      "4\n",
      "3\n",
      "2\n"
     ]
    }
   ],
   "source": [
    "for i in range(10,1,-1):\n",
    "    print(i)"
   ]
  },
  {
   "cell_type": "code",
   "execution_count": 55,
   "metadata": {},
   "outputs": [
    {
     "name": "stdout",
     "output_type": "stream",
     "text": [
      "5\n",
      "120\n"
     ]
    }
   ],
   "source": [
    "# to factorial of number\n",
    "Facto=1;\n",
    "F =int(input())\n",
    "for i in range(1, F+1):\n",
    "    Facto=Facto*i\n",
    "print(Facto)"
   ]
  },
  {
   "cell_type": "code",
   "execution_count": null,
   "metadata": {},
   "outputs": [],
   "source": [
    "# WAP gen fibnocci series using for loop and while\n",
    "# WAP factorial of number using while loop\n",
    "\n",
    "# software program in JN check results\n",
    "# write these assignments in notebook, sign each page, upload the assignments scanned copy to google classroom on or before Every MOnday 2 PM\n"
   ]
  }
 ],
 "metadata": {
  "kernelspec": {
   "display_name": "Python 3",
   "language": "python",
   "name": "python3"
  },
  "language_info": {
   "codemirror_mode": {
    "name": "ipython",
    "version": 3
   },
   "file_extension": ".py",
   "mimetype": "text/x-python",
   "name": "python",
   "nbconvert_exporter": "python",
   "pygments_lexer": "ipython3",
   "version": "3.6.4"
  }
 },
 "nbformat": 4,
 "nbformat_minor": 2
}
