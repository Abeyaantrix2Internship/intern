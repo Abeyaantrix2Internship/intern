{
 "cells": [
  {
   "cell_type": "markdown",
   "metadata": {},
   "source": [
    "### Numpy for array handling , mutli dimensional arrays"
   ]
  },
  {
   "cell_type": "code",
   "execution_count": 1,
   "metadata": {},
   "outputs": [
    {
     "name": "stderr",
     "output_type": "stream",
     "text": [
      "C:\\Users\\HP\\Anaconda3\\lib\\site-packages\\numpy\\_distributor_init.py:32: UserWarning: loaded more than 1 DLL from .libs:\n",
      "C:\\Users\\HP\\Anaconda3\\lib\\site-packages\\numpy\\.libs\\libopenblas.BNVRK7633HSX7YVO2TADGR4A5KEKXJAW.gfortran-win_amd64.dll\n",
      "C:\\Users\\HP\\Anaconda3\\lib\\site-packages\\numpy\\.libs\\libopenblas.PYQHXLVVQ7VESDPUVUADXEVJOBGHJPAY.gfortran-win_amd64.dll\n",
      "  stacklevel=1)\n"
     ]
    },
    {
     "name": "stdout",
     "output_type": "stream",
     "text": [
      "1.18.1\n"
     ]
    }
   ],
   "source": [
    "import numpy as np\n",
    "print(np.__version__)"
   ]
  },
  {
   "cell_type": "code",
   "execution_count": 2,
   "metadata": {},
   "outputs": [
    {
     "name": "stdout",
     "output_type": "stream",
     "text": [
      "[ 45  55  67  89 100]\n"
     ]
    }
   ],
   "source": [
    "# Creation of array\n",
    "M=np.array([45,55,67,89,100])\n",
    "print(M)"
   ]
  },
  {
   "cell_type": "code",
   "execution_count": 4,
   "metadata": {},
   "outputs": [
    {
     "name": "stdout",
     "output_type": "stream",
     "text": [
      "[11, 22, 33, 44, 55]\n",
      "<class 'list'>\n",
      "\n",
      "[11 22 33 44 55]\n",
      "1\n",
      "(5,)\n",
      "5\n",
      "4\n",
      "int32\n",
      "20\n",
      "[ 45  55  67  89 100]\n",
      "1\n",
      "5\n",
      "<class 'numpy.ndarray'>\n",
      "int32\n"
     ]
    }
   ],
   "source": [
    "mylist1 = [11,22,33,44,55]\n",
    "print(mylist1)\n",
    "print(type(mylist1))\n",
    "print()\n",
    "\n",
    "n1 = np.array(mylist1)\n",
    "\n",
    "print(n1)\n",
    "print(n1.ndim) # no of dimesions \n",
    "print(n1.shape) # rows and columns\n",
    "print(n1.size)   ##  total number of elements in the array\n",
    "print(n1.itemsize)   ##  number of bytes consumed by each item in the array\n",
    "print(n1.dtype)\n",
    "print(n1.size * n1.itemsize)  ## total bytes occupied by the data of the numpy array\n",
    "\n",
    "M=np.array([45,55,67,89,100])\n",
    "print(M)\n",
    "print(M.ndim)\n",
    "print(M.size)\n",
    "print(type(M))\n",
    "print(M.dtype)"
   ]
  },
  {
   "cell_type": "markdown",
   "metadata": {},
   "source": [
    "#### Creating 2dim array"
   ]
  },
  {
   "cell_type": "code",
   "execution_count": 8,
   "metadata": {},
   "outputs": [
    {
     "name": "stdout",
     "output_type": "stream",
     "text": [
      "[[1 2 3]\n",
      " [4 5 6]\n",
      " [7 8 9]]\n",
      "(3, 3)\n",
      "2\n",
      "9\n"
     ]
    }
   ],
   "source": [
    "NEW=np.array([[1,2,3],[4,5,6],[7,8,9]])\n",
    "print(NEW)\n",
    "print(NEW.shape)\n",
    "print(NEW.ndim)\n",
    "print(NEW.size)"
   ]
  },
  {
   "cell_type": "code",
   "execution_count": 9,
   "metadata": {},
   "outputs": [
    {
     "name": "stdout",
     "output_type": "stream",
     "text": [
      "[[ 1  2  3  4  5  6]\n",
      " [ 7  8  9 10 11 12]\n",
      " [13 14 15 16 17 18]\n",
      " [19 20 21 22 23 24]\n",
      " [25 26 27 28 29 30]]\n",
      "2\n",
      "(5, 6)\n",
      "30\n"
     ]
    }
   ],
   "source": [
    "### create array with 5 rows and 6 columns\n",
    "NEW=np.array([[1,2,3,4,5,6],[7,8,9,10,11,12],[13,14,15,16,17,18],[19,20,21,22,23,24],[25,26,27,28,29,30]])\n",
    "print(NEW)\n",
    "print(NEW.ndim)\n",
    "print(NEW.shape)\n",
    "print(NEW.size)"
   ]
  },
  {
   "cell_type": "code",
   "execution_count": null,
   "metadata": {},
   "outputs": [],
   "source": [
    "##how to access the numpy cotent"
   ]
  },
  {
   "cell_type": "code",
   "execution_count": 35,
   "metadata": {},
   "outputs": [
    {
     "name": "stdout",
     "output_type": "stream",
     "text": [
      "[[ 1  2  3  4  5  6]\n",
      " [13 14 15 16 17 18]]\n"
     ]
    },
    {
     "data": {
      "text/plain": [
       "array([[25, 26, 27, 28, 29, 30],\n",
       "       [19, 20, 21, 22, 23, 24],\n",
       "       [13, 14, 15, 16, 17, 18],\n",
       "       [ 7,  8,  9, 10, 11, 12],\n",
       "       [ 1,  2,  3,  4,  5,  6]])"
      ]
     },
     "execution_count": 35,
     "metadata": {},
     "output_type": "execute_result"
    }
   ],
   "source": [
    "NEW[0] # all elelments in 1st row\n",
    "NEW[0:2]# returns 1 and 2 row\n",
    "NEW[0,:] # 1st row\n",
    "NEW[0,0] # 1\n",
    "NEW[0,:3]# 1,2,3\n",
    "NEW[:,0]# 1st column\n",
    "print(NEW[0:3:2,:])# 1st and 3rd row\n",
    "NEW[:,0:6:2]# 1st and last column\n",
    "NEW[:,[0,5]]\n",
    "NEW[:,0:3]# 1st 2nd and 3rd column\n",
    "NEW[4:0:-1, :]# rows to be filipped\n",
    "NEW[-1:-6:-1, :]"
   ]
  },
  {
   "cell_type": "code",
   "execution_count": 27,
   "metadata": {},
   "outputs": [
    {
     "data": {
      "text/plain": [
       "array([[ 1,  6],\n",
       "       [ 7, 12],\n",
       "       [13, 18],\n",
       "       [19, 24],\n",
       "       [25, 30]])"
      ]
     },
     "execution_count": 27,
     "metadata": {},
     "output_type": "execute_result"
    }
   ],
   "source": [
    "NEW[:,[0,5]]"
   ]
  },
  {
   "cell_type": "code",
   "execution_count": null,
   "metadata": {},
   "outputs": [],
   "source": [
    "#Assignment\n",
    "#create 5*5 array\n",
    "#access the content\n",
    "# print 1st row\n",
    "# print last row\n",
    "# print 3rd column\n",
    "# print 1st, 2nd and 5th row\n",
    "# print 1st, 2nd and 5th column\n",
    "# reverse the columns\n",
    "# print 3rd and 5th columns\n"
   ]
  },
  {
   "cell_type": "code",
   "execution_count": 36,
   "metadata": {},
   "outputs": [
    {
     "data": {
      "text/plain": [
       "array([[ 1,  2,  3,  4,  5,  6],\n",
       "       [ 7,  8,  9, 10, 11, 12],\n",
       "       [13, 14, 15, 16, 17, 18],\n",
       "       [19, 20, 21, 22, 23, 24],\n",
       "       [25, 26, 27, 28, 29, 30]])"
      ]
     },
     "execution_count": 36,
     "metadata": {},
     "output_type": "execute_result"
    }
   ],
   "source": [
    "## modify contetn of an array\n",
    "NEW"
   ]
  },
  {
   "cell_type": "code",
   "execution_count": 40,
   "metadata": {},
   "outputs": [
    {
     "data": {
      "text/plain": [
       "array([[100, 200, 300, 400, 500, 600],\n",
       "       [  7,   8,   9,  10,  11,  12],\n",
       "       [ 13,  14,  15,  16,  17,  18],\n",
       "       [ 19,  20,  21,  22,  23,  24],\n",
       "       [ 25,  26,  27,  28,  29,  30]])"
      ]
     },
     "execution_count": 40,
     "metadata": {},
     "output_type": "execute_result"
    }
   ],
   "source": [
    "NEW[0,0]=100\n",
    "NEW\n",
    "# 1st row\n",
    "NEW[0,:]=[100,200,300,400,500,600]\n",
    "NEW\n",
    "\n",
    "# update the 1st column with 10,20,30,40,50\n",
    "# update 2nd and 4th row with new values\n",
    "# update 2nd and 5th column with new values (1-5 and 11-15)\n"
   ]
  },
  {
   "cell_type": "code",
   "execution_count": 41,
   "metadata": {},
   "outputs": [
    {
     "data": {
      "text/plain": [
       "array([[100, 200, 300, 400, 500, 600],\n",
       "       [  7,   8,   9,  10,  11,  12],\n",
       "       [ 13,  14,  15,  16,  17,  18],\n",
       "       [ 19,  20,  21,  22,  23,  24],\n",
       "       [ 25,  26,  27,  28,  29,  30]])"
      ]
     },
     "execution_count": 41,
     "metadata": {},
     "output_type": "execute_result"
    }
   ],
   "source": [
    "NEW"
   ]
  },
  {
   "cell_type": "code",
   "execution_count": 42,
   "metadata": {},
   "outputs": [
    {
     "data": {
      "text/plain": [
       "array([[100, 200, 300, 400, 500, 600],\n",
       "       [  7,   8,   9,  10,  11,  12],\n",
       "       [ 13,  14,  15,  16,  17,  18],\n",
       "       [ 19,  20,  21,  22,  23,  24],\n",
       "       [ 25,  26,  27,  28,  29,  30]])"
      ]
     },
     "execution_count": 42,
     "metadata": {},
     "output_type": "execute_result"
    }
   ],
   "source": [
    "M=NEW # here M is just view of the array, it does not copy the array\n",
    "M"
   ]
  },
  {
   "cell_type": "code",
   "execution_count": null,
   "metadata": {},
   "outputs": [],
   "source": []
  },
  {
   "cell_type": "code",
   "execution_count": 44,
   "metadata": {},
   "outputs": [
    {
     "data": {
      "text/plain": [
       "array([[100, 200, 300, 400, 500, 600],\n",
       "       [  7,   5,   9,  10,  11,  12],\n",
       "       [ 13,  14,  15,  16,  17,  18],\n",
       "       [ 19,  20,  21,  22,  23,  24],\n",
       "       [ 25,  26,  27,  28,  29,  30]])"
      ]
     },
     "execution_count": 44,
     "metadata": {},
     "output_type": "execute_result"
    }
   ],
   "source": [
    "M[1,1]=5\n",
    "M"
   ]
  },
  {
   "cell_type": "code",
   "execution_count": 45,
   "metadata": {},
   "outputs": [
    {
     "data": {
      "text/plain": [
       "array([[100, 200, 300, 400, 500, 600],\n",
       "       [  7,   5,   9,  10,  11,  12],\n",
       "       [ 13,  14,  15,  16,  17,  18],\n",
       "       [ 19,  20,  21,  22,  23,  24],\n",
       "       [ 25,  26,  27,  28,  29,  30]])"
      ]
     },
     "execution_count": 45,
     "metadata": {},
     "output_type": "execute_result"
    }
   ],
   "source": [
    "NEW"
   ]
  },
  {
   "cell_type": "code",
   "execution_count": 46,
   "metadata": {},
   "outputs": [
    {
     "data": {
      "text/plain": [
       "array([[100, 200, 300, 400, 500, 600],\n",
       "       [  7,   5,   9,  10,  11,  12],\n",
       "       [ 13,  14,  15,  16,  17,  18],\n",
       "       [ 19,  20,  21,  22,  23,  24],\n",
       "       [ 25,  26,  27,  28,  29,  30]])"
      ]
     },
     "execution_count": 46,
     "metadata": {},
     "output_type": "execute_result"
    }
   ],
   "source": [
    "## in numpy when we assign a created array to a new variables, they both share same memory location\n",
    "#If we update one array another will auotomatical gets updated\n",
    "N=NEW.copy()\n",
    "N\n"
   ]
  },
  {
   "cell_type": "code",
   "execution_count": 47,
   "metadata": {},
   "outputs": [
    {
     "data": {
      "text/plain": [
       "array([[100, 200, 300, 400, 500, 600],\n",
       "       [  7,   5,   9,  10,  11,  12],\n",
       "       [ 13,  14,  15,  16,  17,  18],\n",
       "       [ 19,  20,  21,  22,  23,  24],\n",
       "       [ 25,  26,  27,  28,  29,  30]])"
      ]
     },
     "execution_count": 47,
     "metadata": {},
     "output_type": "execute_result"
    }
   ],
   "source": [
    "NEW"
   ]
  },
  {
   "cell_type": "code",
   "execution_count": 48,
   "metadata": {},
   "outputs": [
    {
     "data": {
      "text/plain": [
       "array([[100, 200, 300, 400, 500, 600],\n",
       "       [  7,   5,   9,  10,  11,  12],\n",
       "       [ 13,  14,  15,  16,  17,  18],\n",
       "       [ 19,  20, 777,  22,  23,  24],\n",
       "       [ 25,  26,  27,  28,  29,  30]])"
      ]
     },
     "execution_count": 48,
     "metadata": {},
     "output_type": "execute_result"
    }
   ],
   "source": [
    "N[3,2]=777\n",
    "N"
   ]
  },
  {
   "cell_type": "code",
   "execution_count": 49,
   "metadata": {},
   "outputs": [
    {
     "data": {
      "text/plain": [
       "array([[100, 200, 300, 400, 500, 600],\n",
       "       [  7,   5,   9,  10,  11,  12],\n",
       "       [ 13,  14,  15,  16,  17,  18],\n",
       "       [ 19,  20,  21,  22,  23,  24],\n",
       "       [ 25,  26,  27,  28,  29,  30]])"
      ]
     },
     "execution_count": 49,
     "metadata": {},
     "output_type": "execute_result"
    }
   ],
   "source": [
    "NEW"
   ]
  },
  {
   "cell_type": "code",
   "execution_count": 105,
   "metadata": {},
   "outputs": [
    {
     "name": "stdout",
     "output_type": "stream",
     "text": [
      "[886 370 305 867 327]\n",
      "\n",
      "[[ 68  26  61]\n",
      " [101 120  97]\n",
      " [ 74  45 137]]\n"
     ]
    }
   ],
   "source": [
    "## generating random numbers\n",
    "np.random.seed(43) # control the random number gen\n",
    "R=np.random.randint(50,1000,5) # between o to 100 , 5 int type random numbers \n",
    "print(R)\n",
    "print()\n",
    "R2=np.random.randint(10,150,(3,3))\n",
    "print(R2)"
   ]
  },
  {
   "cell_type": "code",
   "execution_count": 107,
   "metadata": {},
   "outputs": [
    {
     "name": "stdout",
     "output_type": "stream",
     "text": [
      "[[0.87376594 0.5550648  0.42891124 0.13969232]\n",
      " [0.2302393  0.19714783 0.79849217 0.33232939]\n",
      " [0.42109594 0.44482138 0.82476768 0.16265433]]\n",
      "(3, 4)\n",
      "[[0.39669424 0.87430281 0.96342445 0.79511631 0.11845222 0.93755506\n",
      "  0.15345838 0.47293881 0.60899792 0.26451339]]\n",
      "(1, 10)\n",
      "[ 12  34  56  78 100 345  23  45  67  89]\n",
      "78\n"
     ]
    }
   ],
   "source": [
    "## uniform distribution\n",
    "RU=np.random.rand(3,4) # 0 to 1\n",
    "print(RU)\n",
    "print(RU.shape)\n",
    "RU2=np.random.rand(1,10)\n",
    "print(RU2)\n",
    "print(RU2.shape)\n",
    "## choice method\n",
    "\n",
    "C=np.array([12,34,56,78,100,345,23,45,67,89])\n",
    "print(C)\n",
    "print(np.random.choice(C))"
   ]
  },
  {
   "cell_type": "code",
   "execution_count": 120,
   "metadata": {},
   "outputs": [
    {
     "name": "stdout",
     "output_type": "stream",
     "text": [
      "[ 12  34  56  78 100 345  23  45  67  89]\n",
      "12\n"
     ]
    }
   ],
   "source": [
    "## choice method\n",
    "\n",
    "C=np.array([12,34,56,78,100,345,23,45,67,89])\n",
    "print(C)\n",
    "print(np.random.choice(C))"
   ]
  },
  {
   "cell_type": "markdown",
   "metadata": {},
   "source": [
    "# summary\n",
    "- numpy array creation\n",
    "- by using list\n",
    "- direct method using array\n",
    "- how to create multi dim array\n",
    "- how to access the content of numpy array\n",
    "- then we learnt the diff between copy method direst assignemnt(VIEW)\n",
    "- Random function and its few methods, rand, randint, choice"
   ]
  },
  {
   "cell_type": "markdown",
   "metadata": {},
   "source": [
    "### DATA visulization using MATPLOTLIB library\n",
    "MATPLOTLIB proides us the functions/methods to visulize 2d and 3d data\n",
    "- it provides plots like line plot, barplot, scatter plot, discrete plot, pie chart and many other \n",
    "- we can have many annotation option \n",
    "- option to control colors, and other graphical properties"
   ]
  },
  {
   "cell_type": "code",
   "execution_count": 123,
   "metadata": {},
   "outputs": [
    {
     "name": "stdout",
     "output_type": "stream",
     "text": [
      "[325 321 256 306 278  59  17 308 146 188 348 451 367 415 344 321 292 384\n",
      " 435 380 460  90 450 368  35]\n",
      "\n",
      "[ 1  2  3  4  5  6  7  8  9 10 11 12 13 14 15 16 17 18 19 20 21 22 23 24\n",
      " 25]\n",
      "(25,)\n",
      "\n",
      "(25,)\n"
     ]
    },
    {
     "data": {
      "image/png": "[encoded data removed]",
      "text/plain": [
       "<Figure size 432x288 with 1 Axes>"
      ]
     },
     "metadata": {},
     "output_type": "display_data"
    }
   ],
   "source": [
    "import matplotlib.pyplot as plt\n",
    "import numpy as np\n",
    "np.random.seed(43)\n",
    "Y=np.random.randint(1,500,25)\n",
    "x=np.arange(1,26)\n",
    "print(Y)\n",
    "print()\n",
    "print(x)\n",
    "\n",
    "print(Y.shape)\n",
    "print()\n",
    "print(x.shape)\n",
    "\n",
    "plt.plot(x,Y)\n",
    "\n",
    "plt.show()"
   ]
  },
  {
   "cell_type": "code",
   "execution_count": 132,
   "metadata": {},
   "outputs": [
    {
     "name": "stdout",
     "output_type": "stream",
     "text": [
      "(101,)\n"
     ]
    },
    {
     "data": {
      "image/png": "[encoded data removed]",
      "text/plain": [
       "<Figure size 432x288 with 1 Axes>"
      ]
     },
     "metadata": {},
     "output_type": "display_data"
    }
   ],
   "source": [
    "## generate sine wave\n",
    "t=np.arange(0,1.01,0.01)\n",
    "print(t.shape)\n",
    "# sin(2*pi*f*t)\n",
    "S=np.sin(2*3.142*t)\n",
    "plt.plot(t,S)\n",
    "plt.xlabel('time')\n",
    "plt.ylabel('amplitude')\n",
    "plt.title('SINEWAVE 1 hz freq')\n",
    "plt.text(0.25,1,'peak') # x and y axis pos and string\n",
    "plt.show()\n"
   ]
  },
  {
   "cell_type": "code",
   "execution_count": null,
   "metadata": {},
   "outputs": [],
   "source": []
  }
 ],
 "metadata": {
  "kernelspec": {
   "display_name": "Python 3",
   "language": "python",
   "name": "python3"
  },
  "language_info": {
   "codemirror_mode": {
    "name": "ipython",
    "version": 3
   },
   "file_extension": ".py",
   "mimetype": "text/x-python",
   "name": "python",
   "nbconvert_exporter": "python",
   "pygments_lexer": "ipython3",
   "version": "3.6.4"
  }
 },
 "nbformat": 4,
 "nbformat_minor": 2
}
