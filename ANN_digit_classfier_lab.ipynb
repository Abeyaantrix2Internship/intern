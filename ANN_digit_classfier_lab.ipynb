{
  "nbformat": 4,
  "nbformat_minor": 0,
  "metadata": {
    "colab": {
      "name": "ANN_digit_classfier_lab.ipynb",
      "provenance": [],
      "collapsed_sections": []
    },
    "kernelspec": {
      "name": "python3",
      "display_name": "Python 3"
    }
  },
  "cells": [
    {
      "cell_type": "code",
      "metadata": {
        "id": "yWC6vAkLj5Rp",
        "colab": {
          "base_uri": "https://localhost:8080/"
        },
        "outputId": "fcdaccaf-6004-4d5e-ebe9-fdcef2b79823"
      },
      "source": [
        "from google.colab import drive\n",
        "drive.mount('/content/drive')"
      ],
      "execution_count": null,
      "outputs": [
        {
          "output_type": "stream",
          "name": "stdout",
          "text": [
            "Drive already mounted at /content/drive; to attempt to forcibly remount, call drive.mount(\"/content/drive\", force_remount=True).\n"
          ]
        }
      ]
    },
    {
      "cell_type": "code",
      "metadata": {
        "id": "R7WROP-akj8G"
      },
      "source": [
        "# Simple CNN for the MNIST Dataset\n",
        "import numpy as np\n",
        "import matplotlib.pyplot as plt\n",
        "from keras.datasets import mnist\n",
        "from keras.models import Sequential\n",
        "from keras.layers import Dense\n",
        "from keras.utils import np_utils\n",
        "#1d array, without extracting any features, take whole image and covert it to 1d array and feed it"
      ],
      "execution_count": null,
      "outputs": []
    },
    {
      "cell_type": "code",
      "metadata": {
        "id": "sfpky1TboNWx"
      },
      "source": [
        "# load data\n",
        "(X_train, y_train), (X_test, y_test) = mnist.load_data()"
      ],
      "execution_count": null,
      "outputs": []
    },
    {
      "cell_type": "code",
      "metadata": {
        "colab": {
          "base_uri": "https://localhost:8080/"
        },
        "id": "lyiQnVPvPGj3",
        "outputId": "048dc16d-6af6-403c-b240-35bd28bdcd93"
      },
      "source": [
        "# X_train training set with 60,000 images\n",
        "# X_test test set 10,000 images\n",
        "#y_train training set labels for training images\n",
        "# y_test test set image lables\n",
        "y_train[545]"
      ],
      "execution_count": null,
      "outputs": [
        {
          "output_type": "execute_result",
          "data": {
            "text/plain": [
              "8"
            ]
          },
          "metadata": {},
          "execution_count": 26
        }
      ]
    },
    {
      "cell_type": "code",
      "metadata": {
        "id": "t-PdHkETk3xG",
        "colab": {
          "base_uri": "https://localhost:8080/",
          "height": 286
        },
        "outputId": "d5af004a-8af5-4d29-ea3d-996610d9da70"
      },
      "source": [
        "# plot 4 images as gray scale\n",
        "plt.subplot(221)\n",
        "plt.imshow(X_train[50], cmap=plt.get_cmap('gray'))\n",
        "plt.subplot(222)\n",
        "plt.imshow(X_train[545], cmap=plt.get_cmap('gray'))\n",
        "plt.subplot(223)\n",
        "plt.imshow(X_train[45080], cmap=plt.get_cmap('gray'))\n",
        "plt.subplot(224)\n",
        "plt.imshow(X_train[35679], cmap=plt.get_cmap('gray'))"
      ],
      "execution_count": null,
      "outputs": [
        {
          "output_type": "execute_result",
          "data": {
            "text/plain": [
              "<matplotlib.image.AxesImage at 0x7f4f7e33f250>"
            ]
          },
          "metadata": {},
          "execution_count": 27
        },
        {
          "output_type": "display_data",
          "data": {
            "image/png": "[encoded data removed]",
            "text/plain": [
              "<Figure size 432x288 with 4 Axes>"
            ]
          },
          "metadata": {
            "needs_background": "light"
          }
        }
      ]
    },
    {
      "cell_type": "markdown",
      "metadata": {
        "id": "VwpW4vEtEyZb"
      },
      "source": [
        "28*28"
      ]
    },
    {
      "cell_type": "code",
      "metadata": {
        "id": "VbvNa1oDWGqH",
        "colab": {
          "base_uri": "https://localhost:8080/"
        },
        "outputId": "54d29862-2d6c-4521-b30a-430c46c8efb5"
      },
      "source": [
        "28*28"
      ],
      "execution_count": null,
      "outputs": [
        {
          "output_type": "execute_result",
          "data": {
            "text/plain": [
              "784"
            ]
          },
          "metadata": {},
          "execution_count": 28
        }
      ]
    },
    {
      "cell_type": "code",
      "metadata": {
        "id": "VE3eJBdCQllC"
      },
      "source": [
        "# create the object using sequential\n",
        "# add input layer , add hidden layer, add the output layer\n",
        "# choose the suitable activation function\n",
        "# add optimizer and metrices"
      ],
      "execution_count": null,
      "outputs": []
    },
    {
      "cell_type": "code",
      "metadata": {
        "id": "Hs2mFRYIlByf",
        "colab": {
          "base_uri": "https://localhost:8080/"
        },
        "outputId": "71710256-fd45-4f38-fbf1-071a850a2e71"
      },
      "source": [
        "DigitClassifier=Sequential()\n",
        "DigitClassifier.add(Dense(128, input_dim=784, activation='relu'))\n",
        "# input layer  with 784 inputs\n",
        "# hidden layer with 128 neurons 1\n",
        "# output layer with 10 outputs\n",
        "DigitClassifier.add(Dense(10, activation='softmax'))\n",
        "\t# Compile model\n",
        "DigitClassifier.compile(loss='categorical_crossentropy', optimizer='adam', metrics=['accuracy'])\n",
        "# since no of classes more than 2 we use categorical crossentropy function for loss measurement\n",
        "# adam: error minimizer\n",
        "# accuracy, try to achive better accuracy\n",
        "DigitClassifier.summary()"
      ],
      "execution_count": null,
      "outputs": [
        {
          "output_type": "stream",
          "name": "stdout",
          "text": [
            "Model: \"sequential_2\"\n",
            "_________________________________________________________________\n",
            "Layer (type)                 Output Shape              Param #   \n",
            "=================================================================\n",
            "dense_5 (Dense)              (None, 128)               100480    \n",
            "_________________________________________________________________\n",
            "dense_6 (Dense)              (None, 10)                1290      \n",
            "=================================================================\n",
            "Total params: 101,770\n",
            "Trainable params: 101,770\n",
            "Non-trainable params: 0\n",
            "_________________________________________________________________\n"
          ]
        }
      ]
    },
    {
      "cell_type": "markdown",
      "metadata": {
        "id": "jJf-pGU8XGWj"
      },
      "source": [
        "# preprocesing step\n",
        "\n",
        "\n"
      ]
    },
    {
      "cell_type": "code",
      "metadata": {
        "id": "QvWvfwgsrbQ7"
      },
      "source": [
        "Xm_train = X_train.reshape((X_train.shape[0], 784)).astype('float32')\n",
        "Xm_test = X_test.reshape((X_test.shape[0], 784)).astype('float32')\n",
        "# normalize inputs from 0-255 to 0-1\n",
        "Xm_train = Xm_train / 255\n",
        "Xm_test = Xm_test / 255"
      ],
      "execution_count": null,
      "outputs": []
    },
    {
      "cell_type": "code",
      "metadata": {
        "id": "KKFNdkCmXUHq",
        "colab": {
          "base_uri": "https://localhost:8080/"
        },
        "outputId": "1ce47a01-8d71-408b-befa-8f91d19c8b8e"
      },
      "source": [
        "X_test.shape"
      ],
      "execution_count": null,
      "outputs": [
        {
          "output_type": "execute_result",
          "data": {
            "text/plain": [
              "(10000, 28, 28)"
            ]
          },
          "metadata": {},
          "execution_count": 32
        }
      ]
    },
    {
      "cell_type": "code",
      "metadata": {
        "id": "NKVwQ3kRSwRc",
        "colab": {
          "base_uri": "https://localhost:8080/"
        },
        "outputId": "43a8ce45-8ce4-418e-a46c-67a8550bf95a"
      },
      "source": [
        "Xm_test.shape"
      ],
      "execution_count": null,
      "outputs": [
        {
          "output_type": "execute_result",
          "data": {
            "text/plain": [
              "(10000, 784)"
            ]
          },
          "metadata": {},
          "execution_count": 33
        }
      ]
    },
    {
      "cell_type": "code",
      "metadata": {
        "colab": {
          "base_uri": "https://localhost:8080/"
        },
        "id": "wvN6a1ncG-LA",
        "outputId": "15a1f68f-4d89-4c2f-a68f-c21e6802d069"
      },
      "source": [
        "500*500\n",
        "# size of NN increases\n",
        "# learning time increases\n",
        "# we are not extracting features and feeding to NN\n",
        "# CNN introduced"
      ],
      "execution_count": null,
      "outputs": [
        {
          "output_type": "execute_result",
          "data": {
            "text/plain": [
              "250000"
            ]
          },
          "metadata": {},
          "execution_count": 34
        }
      ]
    },
    {
      "cell_type": "code",
      "metadata": {
        "colab": {
          "base_uri": "https://localhost:8080/"
        },
        "id": "rXiamNfYHmX6",
        "outputId": "5f7a87f0-08e7-48a4-d137-d85d7138000e"
      },
      "source": [
        "500*500*3"
      ],
      "execution_count": null,
      "outputs": [
        {
          "output_type": "execute_result",
          "data": {
            "text/plain": [
              "750000"
            ]
          },
          "metadata": {},
          "execution_count": 35
        }
      ]
    },
    {
      "cell_type": "code",
      "metadata": {
        "id": "YhWzqo-RseB_"
      },
      "source": [
        "ym_train = np_utils.to_categorical(y_train) # converting to categories\n",
        "ym_test = np_utils.to_categorical(y_test)"
      ],
      "execution_count": null,
      "outputs": []
    },
    {
      "cell_type": "code",
      "metadata": {
        "id": "tL-yfqObszag",
        "colab": {
          "base_uri": "https://localhost:8080/"
        },
        "outputId": "8deb27ce-056b-4a3d-bedb-1fc41d3719d8"
      },
      "source": [
        "ym_train"
      ],
      "execution_count": null,
      "outputs": [
        {
          "output_type": "execute_result",
          "data": {
            "text/plain": [
              "array([[0., 0., 0., ..., 0., 0., 0.],\n",
              "       [1., 0., 0., ..., 0., 0., 0.],\n",
              "       [0., 0., 0., ..., 0., 0., 0.],\n",
              "       ...,\n",
              "       [0., 0., 0., ..., 0., 0., 0.],\n",
              "       [0., 0., 0., ..., 0., 0., 0.],\n",
              "       [0., 0., 0., ..., 0., 1., 0.]], dtype=float32)"
            ]
          },
          "metadata": {},
          "execution_count": 37
        }
      ]
    },
    {
      "cell_type": "code",
      "metadata": {
        "id": "yHncO4i2s1Ou",
        "colab": {
          "base_uri": "https://localhost:8080/"
        },
        "outputId": "0975affe-58e3-41db-86b9-099a2e91e608"
      },
      "source": [
        "DigitClassifier.fit(Xm_train, ym_train, validation_data=(Xm_test, ym_test), epochs=5, batch_size=200)\n",
        "#iteration 200*300\n",
        "#Weights modeled"
      ],
      "execution_count": null,
      "outputs": [
        {
          "output_type": "stream",
          "name": "stdout",
          "text": [
            "Epoch 1/5\n",
            "300/300 [==============================] - 2s 5ms/step - loss: 0.4091 - accuracy: 0.8890 - val_loss: 0.2161 - val_accuracy: 0.9379\n",
            "Epoch 2/5\n",
            "300/300 [==============================] - 1s 4ms/step - loss: 0.1872 - accuracy: 0.9463 - val_loss: 0.1553 - val_accuracy: 0.9546\n",
            "Epoch 3/5\n",
            "300/300 [==============================] - 1s 5ms/step - loss: 0.1371 - accuracy: 0.9608 - val_loss: 0.1288 - val_accuracy: 0.9610\n",
            "Epoch 4/5\n",
            "300/300 [==============================] - 1s 5ms/step - loss: 0.1079 - accuracy: 0.9690 - val_loss: 0.1081 - val_accuracy: 0.9669\n",
            "Epoch 5/5\n",
            "300/300 [==============================] - 1s 4ms/step - loss: 0.0888 - accuracy: 0.9752 - val_loss: 0.0986 - val_accuracy: 0.9700\n"
          ]
        },
        {
          "output_type": "execute_result",
          "data": {
            "text/plain": [
              "<keras.callbacks.History at 0x7f4f7e2b1650>"
            ]
          },
          "metadata": {},
          "execution_count": 38
        }
      ]
    },
    {
      "cell_type": "code",
      "metadata": {
        "id": "VihskHwVt-nU",
        "colab": {
          "base_uri": "https://localhost:8080/"
        },
        "outputId": "432caa94-0310-406f-a915-fc543f316e29"
      },
      "source": [
        "scores = DigitClassifier.evaluate(Xm_test, ym_test)\n"
      ],
      "execution_count": null,
      "outputs": [
        {
          "output_type": "stream",
          "name": "stdout",
          "text": [
            "313/313 [==============================] - 1s 2ms/step - loss: 0.0986 - accuracy: 0.9700\n"
          ]
        }
      ]
    },
    {
      "cell_type": "code",
      "metadata": {
        "id": "5FdaWRz3vDtQ"
      },
      "source": [
        "scores"
      ],
      "execution_count": null,
      "outputs": []
    },
    {
      "cell_type": "code",
      "metadata": {
        "id": "WKPpozHevHf1",
        "colab": {
          "base_uri": "https://localhost:8080/"
        },
        "outputId": "be9e4ccc-274f-48e8-9625-102625e25f28"
      },
      "source": [
        "print('loss =', scores[0], 'accuracy=', scores[1])"
      ],
      "execution_count": null,
      "outputs": [
        {
          "output_type": "stream",
          "name": "stdout",
          "text": [
            "loss = 0.09860904514789581 accuracy= 0.9700000286102295\n"
          ]
        }
      ]
    },
    {
      "cell_type": "code",
      "metadata": {
        "id": "4he4X5JAvRbw",
        "colab": {
          "base_uri": "https://localhost:8080/",
          "height": 317
        },
        "outputId": "962149f2-5cf5-422c-b17b-513fd94d1848"
      },
      "source": [
        "#plt.subplot(224)\n",
        "plt.imshow(X_test[2003], cmap=plt.get_cmap('gray'))#\n",
        "\n",
        "R1=DigitClassifier.predict(Xm_test[2003:2004])\n",
        "R1"
      ],
      "execution_count": null,
      "outputs": [
        {
          "output_type": "execute_result",
          "data": {
            "text/plain": [
              "array([[2.2749932e-06, 7.2074261e-05, 3.5066960e-06, 9.8162575e-04,\n",
              "        4.1119034e-05, 9.9866438e-01, 8.4795800e-05, 4.1849133e-09,\n",
              "        1.4381383e-04, 6.4641426e-06]], dtype=float32)"
            ]
          },
          "metadata": {},
          "execution_count": 41
        },
        {
          "output_type": "display_data",
          "data": {
            "image/png": "[encoded data removed]",
            "text/plain": [
              "<Figure size 432x288 with 1 Axes>"
            ]
          },
          "metadata": {
            "needs_background": "light"
          }
        }
      ]
    },
    {
      "cell_type": "code",
      "metadata": {
        "id": "Nz7zLQEowAZx",
        "colab": {
          "base_uri": "https://localhost:8080/"
        },
        "outputId": "77f2608c-7caf-4295-e4ac-50652e9376d7"
      },
      "source": [
        "R3=np.argmax(R1,axis=1) # get the location of maximum probability and location will be desired result\n",
        "print(R3)"
      ],
      "execution_count": null,
      "outputs": [
        {
          "output_type": "stream",
          "name": "stdout",
          "text": [
            "[5]\n"
          ]
        }
      ]
    },
    {
      "cell_type": "code",
      "metadata": {
        "id": "UvLnra43wDKo",
        "colab": {
          "base_uri": "https://localhost:8080/",
          "height": 284
        },
        "outputId": "7f6c6905-aad9-4ba4-b79f-9b8477962280"
      },
      "source": [
        "# plot 4 images as gray scale\n",
        "plt.subplot(231)\n",
        "plt.imshow(X_test[33], cmap=plt.get_cmap('gray'))\n",
        "plt.subplot(232)\n",
        "plt.imshow(X_test[34], cmap=plt.get_cmap('gray'))\n",
        "plt.subplot(233)\n",
        "plt.imshow(X_test[35], cmap=plt.get_cmap('gray'))\n",
        "plt.subplot(234)\n",
        "plt.imshow(X_test[36], cmap=plt.get_cmap('gray'))\n",
        "#plt.subplot(235)\n",
        "#plt.imshow(X_test[4], cmap=plt.get_cmap('gray'))\n",
        "#plt.subplot(236)\n",
        "#plt.imshow(X_test[5], cmap=plt.get_cmap('gray'))"
      ],
      "execution_count": null,
      "outputs": [
        {
          "output_type": "execute_result",
          "data": {
            "text/plain": [
              "<matplotlib.image.AxesImage at 0x7f7251cb0588>"
            ]
          },
          "metadata": {
            "tags": []
          },
          "execution_count": 29
        },
        {
          "output_type": "display_data",
          "data": {
            "image/png": "[encoded data removed]",
            "text/plain": [
              "<Figure size 432x288 with 4 Axes>"
            ]
          },
          "metadata": {
            "tags": [],
            "needs_background": "light"
          }
        }
      ]
    },
    {
      "cell_type": "code",
      "metadata": {
        "id": "StIRA-gOvinM",
        "colab": {
          "base_uri": "https://localhost:8080/"
        },
        "outputId": "698e9da6-dc27-4567-8d0b-9c50c6603800"
      },
      "source": [
        "R3=np.argmax(R1,axis=1) # get the location of maximum probability and location will be desired result\n",
        "print(R3)"
      ],
      "execution_count": null,
      "outputs": [
        {
          "output_type": "stream",
          "text": [
            "[4 7 2 7]\n"
          ],
          "name": "stdout"
        }
      ]
    },
    {
      "cell_type": "code",
      "metadata": {
        "id": "_7ErUfqMdj_V"
      },
      "source": [
        "100*100==50000\n",
        "10000"
      ],
      "execution_count": null,
      "outputs": []
    }
  ]
}