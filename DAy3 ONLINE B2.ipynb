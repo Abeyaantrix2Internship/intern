{
 "cells": [
  {
   "cell_type": "markdown",
   "metadata": {},
   "source": [
    "### DAY2\n",
    "- Elements of python, \n",
    "- DATA types \n",
    "- type casting\n",
    "- errors associated with Type casting\n",
    "- IO functions\n",
    "- Strings"
   ]
  },
  {
   "cell_type": "markdown",
   "metadata": {},
   "source": [
    "# DAY3\n",
    "- Strings: strings are data type which are collection of characters numeric as well as alphabetical character enclosed in inverted Quotes\n",
    "\n",
    "- Lists\n",
    "- Tuples\n",
    "- Dictionaries"
   ]
  },
  {
   "cell_type": "code",
   "execution_count": 2,
   "metadata": {},
   "outputs": [
    {
     "data": {
      "text/plain": [
       "str"
      ]
     },
     "execution_count": 2,
     "metadata": {},
     "output_type": "execute_result"
    }
   ],
   "source": [
    "S='Welcome to Online MLP Learning'\n",
    "len(S)\n",
    "type(S)\n",
    "\n",
    "# strings content can be accessed via both +ve aswell negative inde"
   ]
  },
  {
   "cell_type": "code",
   "execution_count": 10,
   "metadata": {},
   "outputs": [
    {
     "data": {
      "text/plain": [
       "'HI'"
      ]
     },
     "execution_count": 10,
     "metadata": {},
     "output_type": "execute_result"
    }
   ],
   "source": [
    "S='HELLO HI'\n",
    "# Accessing\n",
    "S[0] # H\n",
    "S[5]  # space\n",
    "S[0:4] # start with pos 0 and go upto pos 3\n",
    "S[:4]# begin with first pos upto 4-1 pos\n",
    "S[4:]# begin with 4th pos and go till the end\n",
    "S[4:8]\n",
    "S[-2:]"
   ]
  },
  {
   "cell_type": "code",
   "execution_count": 11,
   "metadata": {},
   "outputs": [
    {
     "ename": "TypeError",
     "evalue": "'str' object does not support item assignment",
     "output_type": "error",
     "traceback": [
      "\u001b[1;31m---------------------------------------------------------------------------\u001b[0m",
      "\u001b[1;31mTypeError\u001b[0m                                 Traceback (most recent call last)",
      "\u001b[1;32m<ipython-input-11-d4c221bd5181>\u001b[0m in \u001b[0;36m<module>\u001b[1;34m()\u001b[0m\n\u001b[0;32m      1\u001b[0m \u001b[1;31m#REplace\u001b[0m\u001b[1;33m\u001b[0m\u001b[1;33m\u001b[0m\u001b[0m\n\u001b[1;32m----> 2\u001b[1;33m \u001b[0mS\u001b[0m\u001b[1;33m[\u001b[0m\u001b[1;36m0\u001b[0m\u001b[1;33m]\u001b[0m\u001b[1;33m=\u001b[0m\u001b[1;34m'M'\u001b[0m\u001b[1;33m\u001b[0m\u001b[0m\n\u001b[0m",
      "\u001b[1;31mTypeError\u001b[0m: 'str' object does not support item assignment"
     ]
    }
   ],
   "source": [
    "#REplace\n",
    "S[0]='M' #we are trying to replace content of the string \n",
    "#TypeError: 'str' object does not support item assignment"
   ]
  },
  {
   "cell_type": "code",
   "execution_count": 19,
   "metadata": {},
   "outputs": [
    {
     "name": "stdout",
     "output_type": "stream",
     "text": [
      "Hello How are you\n",
      "Hello Hello Hello Hello Hello \n",
      "Hello 5\n"
     ]
    }
   ],
   "source": [
    "#Concatination in string\n",
    "A='Hello '\n",
    "B='How '\n",
    "C='are '\n",
    "D='you'\n",
    "N=A+B+C+D\n",
    "print(N)\n",
    "\n",
    "# if we multiply string with numeric value n, it creates string with copy of the string n times repeated in single sequence\n",
    "Z=A*5\n",
    "print(Z)\n",
    "\n",
    "# if we add string with numeric value : is an error\n",
    "#Y=A+5 # type Error: data type mismatch\n",
    "#print(Y)\n",
    "\n",
    "Y=A+ str(5);print(Y)"
   ]
  },
  {
   "cell_type": "code",
   "execution_count": 27,
   "metadata": {},
   "outputs": [
    {
     "name": "stdout",
     "output_type": "stream",
     "text": [
      "<class 'list'>\n",
      "20\n",
      "[20, 23, 21]\n",
      "[20, 23, 21]\n"
     ]
    },
    {
     "data": {
      "text/plain": [
       "[21, 22, 20]"
      ]
     },
     "execution_count": 27,
     "metadata": {},
     "output_type": "execute_result"
    }
   ],
   "source": [
    "#Lists are data containers used for storing sequence of data, \n",
    "#Data can be int , flaot, string, boolean\n",
    "Age=[21,22,20,23,21,30]\n",
    "print(type(Age))\n",
    "#List can be accessed via positive as well negative ind\n",
    "print(Age[2])\n",
    "print(Age[2:5]) # +ve ind\n",
    "print(Age[-4:-1]) # -ve ind\n",
    "Age[3:] # from 3 to all\n",
    "Age[:3] # from begining to 3-1"
   ]
  },
  {
   "cell_type": "code",
   "execution_count": 34,
   "metadata": {},
   "outputs": [
    {
     "data": {
      "text/plain": [
       "[21, 22, 'Tanmay', 32, 3, 4]"
      ]
     },
     "execution_count": 34,
     "metadata": {},
     "output_type": "execute_result"
    }
   ],
   "source": [
    "#20 with 19\n",
    "Age[2]=19 # single element replacemnet\n",
    "Age\n",
    "Age[-3]=45\n",
    "Age\n",
    "Age[-3:]=[2,3,4] # multiple elem replacement\n",
    "Age\n",
    "Age[2:4]=['Tanmay', 32]\n",
    "Age"
   ]
  },
  {
   "cell_type": "code",
   "execution_count": 37,
   "metadata": {},
   "outputs": [
    {
     "name": "stdout",
     "output_type": "stream",
     "text": [
      "['Suhail', 'Ashwin', 'Pooja', 'shiv', 'Bhoomi']\n",
      "['Suhail', 'Nandish', 'Pooja', 'shiv', 'Bhoomi']\n"
     ]
    }
   ],
   "source": [
    "Name=['Suhail', 'Ashwin','Pooja', 'shiv','Bhoomi']\n",
    "len(Name)\n",
    "print(Name)\n",
    "Name[1]='Nandish'\n",
    "print( Name)\n"
   ]
  },
  {
   "cell_type": "code",
   "execution_count": 38,
   "metadata": {},
   "outputs": [
    {
     "data": {
      "text/plain": [
       "['Suhail', 'Nandish', 'Pooja', 'shiv', 'Bhoomi']"
      ]
     },
     "execution_count": 38,
     "metadata": {},
     "output_type": "execute_result"
    }
   ],
   "source": [
    "Name"
   ]
  },
  {
   "cell_type": "code",
   "execution_count": 39,
   "metadata": {},
   "outputs": [
    {
     "data": {
      "text/plain": [
       "'Nandish'"
      ]
     },
     "execution_count": 39,
     "metadata": {},
     "output_type": "execute_result"
    }
   ],
   "source": [
    "Name[1]"
   ]
  },
  {
   "cell_type": "code",
   "execution_count": 40,
   "metadata": {},
   "outputs": [
    {
     "data": {
      "text/plain": [
       "'Nandi'"
      ]
     },
     "execution_count": 40,
     "metadata": {},
     "output_type": "execute_result"
    }
   ],
   "source": [
    "Name[1][:5] # pos access within the list element, content indexing"
   ]
  },
  {
   "cell_type": "code",
   "execution_count": 41,
   "metadata": {},
   "outputs": [
    {
     "data": {
      "text/plain": [
       "6"
      ]
     },
     "execution_count": 41,
     "metadata": {},
     "output_type": "execute_result"
    }
   ],
   "source": [
    "L2=['a','hj',[1,2,3], 34,56,['Hello', 'BLR', 'MYS']]\n",
    "len(L2)"
   ]
  },
  {
   "cell_type": "code",
   "execution_count": 42,
   "metadata": {},
   "outputs": [
    {
     "data": {
      "text/plain": [
       "[1, 2, 3]"
      ]
     },
     "execution_count": 42,
     "metadata": {},
     "output_type": "execute_result"
    }
   ],
   "source": [
    "L2[2]"
   ]
  },
  {
   "cell_type": "code",
   "execution_count": 43,
   "metadata": {},
   "outputs": [
    {
     "data": {
      "text/plain": [
       "3"
      ]
     },
     "execution_count": 43,
     "metadata": {},
     "output_type": "execute_result"
    }
   ],
   "source": [
    "L2[2][2]"
   ]
  },
  {
   "cell_type": "code",
   "execution_count": 47,
   "metadata": {},
   "outputs": [
    {
     "name": "stdout",
     "output_type": "stream",
     "text": [
      "[21, 22, 20, 23, 21, 30]\n",
      "[21, 22, 20, 23, 21, 30, 3]\n",
      "[21, 22, 20, 23, 21, 30, 3, [23, 23, 43, 56]]\n"
     ]
    }
   ],
   "source": [
    "Age=[21,22,20,23,21,30]\n",
    "print(Age)\n",
    "Age.append(3) # used to append single element\n",
    "print(Age)\n",
    "G=[23,23,43,56]\n",
    "Age.append(G)\n",
    "print(Age)"
   ]
  },
  {
   "cell_type": "code",
   "execution_count": 49,
   "metadata": {},
   "outputs": [
    {
     "name": "stdout",
     "output_type": "stream",
     "text": [
      "[21, 22, 20, 23, 21, 30]\n",
      "[21, 22, 20, 23, 21, 30, 23, 23, 43, 56]\n"
     ]
    },
    {
     "data": {
      "text/plain": [
       "10"
      ]
     },
     "execution_count": 49,
     "metadata": {},
     "output_type": "execute_result"
    }
   ],
   "source": [
    "Age=[21,22,20,23,21,30]\n",
    "print(Age)\n",
    "G=[23,23,43,56] # used \n",
    "Age.extend(G) # to append multiple elements\n",
    "print(Age)\n",
    "len(Age)"
   ]
  },
  {
   "cell_type": "code",
   "execution_count": 50,
   "metadata": {},
   "outputs": [
    {
     "name": "stdout",
     "output_type": "stream",
     "text": [
      "[21, 22, 20, 23, 21, 30]\n",
      "[21, 22, [23, 23, 43, 56], 20, 23, 21, 30]\n"
     ]
    },
    {
     "data": {
      "text/plain": [
       "7"
      ]
     },
     "execution_count": 50,
     "metadata": {},
     "output_type": "execute_result"
    }
   ],
   "source": [
    "Age=[21,22,20,23,21,30]\n",
    "print(Age)\n",
    "G=[23,23,43,56] # used \n",
    "Age.insert(2,G) # to insert elment at specified pos\n",
    "print(Age)\n",
    "len(Age)"
   ]
  },
  {
   "cell_type": "code",
   "execution_count": 58,
   "metadata": {},
   "outputs": [
    {
     "name": "stdout",
     "output_type": "stream",
     "text": [
      "<class 'tuple'>\n"
     ]
    }
   ],
   "source": [
    "TAge=(21,22,20,23,21,30) # tuple\n",
    "print(type(TAge))"
   ]
  },
  {
   "cell_type": "code",
   "execution_count": 60,
   "metadata": {},
   "outputs": [
    {
     "data": {
      "text/plain": [
       "(22, 20, 23)"
      ]
     },
     "execution_count": 60,
     "metadata": {},
     "output_type": "execute_result"
    }
   ],
   "source": [
    "TAge[2]# single element access\n",
    "TAge[3:]\n",
    "TAge[-5:-2]\n"
   ]
  },
  {
   "cell_type": "code",
   "execution_count": 66,
   "metadata": {},
   "outputs": [
    {
     "data": {
      "text/plain": [
       "('DVG', 45, 56)"
      ]
     },
     "execution_count": 66,
     "metadata": {},
     "output_type": "execute_result"
    }
   ],
   "source": [
    "Tname=('BLR', \"MYS\", \"DVG\",45,56)\n",
    "Tname[2:]\n"
   ]
  },
  {
   "cell_type": "code",
   "execution_count": 63,
   "metadata": {},
   "outputs": [
    {
     "ename": "TypeError",
     "evalue": "'tuple' object does not support item assignment",
     "output_type": "error",
     "traceback": [
      "\u001b[1;31m---------------------------------------------------------------------------\u001b[0m",
      "\u001b[1;31mTypeError\u001b[0m                                 Traceback (most recent call last)",
      "\u001b[1;32m<ipython-input-63-0429a5afadac>\u001b[0m in \u001b[0;36m<module>\u001b[1;34m()\u001b[0m\n\u001b[0;32m      1\u001b[0m \u001b[1;31m# Tuples are similar data type just like Lists, we can create with smooth braces, and access using pos based ind +ve -ve ind\u001b[0m\u001b[1;33m\u001b[0m\u001b[1;33m\u001b[0m\u001b[0m\n\u001b[0;32m      2\u001b[0m \u001b[1;31m# BUT we can not modify the content of the Tuple, they are Immutable\u001b[0m\u001b[1;33m\u001b[0m\u001b[1;33m\u001b[0m\u001b[0m\n\u001b[1;32m----> 3\u001b[1;33m \u001b[0mTname\u001b[0m\u001b[1;33m[\u001b[0m\u001b[1;36m2\u001b[0m\u001b[1;33m]\u001b[0m\u001b[1;33m=\u001b[0m\u001b[1;34m'Shivmoga'\u001b[0m\u001b[1;33m\u001b[0m\u001b[0m\n\u001b[0m",
      "\u001b[1;31mTypeError\u001b[0m: 'tuple' object does not support item assignment"
     ]
    }
   ],
   "source": [
    "# Tuples are similar data type just like Lists, we can create with smooth braces, and access using pos based ind +ve -ve ind\n",
    "# BUT we can not modify the content of the Tuple, they are Immutable\n",
    "Tname[2]='Shivmoga' #TypeError: 'tuple' object does not support item assignment\n",
    "# append, extend, insert are not supported"
   ]
  },
  {
   "cell_type": "code",
   "execution_count": 64,
   "metadata": {},
   "outputs": [
    {
     "ename": "AttributeError",
     "evalue": "'tuple' object has no attribute 'append'",
     "output_type": "error",
     "traceback": [
      "\u001b[1;31m---------------------------------------------------------------------------\u001b[0m",
      "\u001b[1;31mAttributeError\u001b[0m                            Traceback (most recent call last)",
      "\u001b[1;32m<ipython-input-64-7b4e8fb43158>\u001b[0m in \u001b[0;36m<module>\u001b[1;34m()\u001b[0m\n\u001b[1;32m----> 1\u001b[1;33m \u001b[0mTname\u001b[0m\u001b[1;33m.\u001b[0m\u001b[0mappend\u001b[0m\u001b[1;33m(\u001b[0m\u001b[1;34m'Raj'\u001b[0m\u001b[1;33m)\u001b[0m\u001b[1;33m\u001b[0m\u001b[0m\n\u001b[0m",
      "\u001b[1;31mAttributeError\u001b[0m: 'tuple' object has no attribute 'append'"
     ]
    }
   ],
   "source": [
    "Tname.append('Raj')"
   ]
  },
  {
   "cell_type": "markdown",
   "metadata": {},
   "source": [
    "## Dictionary\n",
    "- Dictionaries are used to store data values in key:value pairs.\n",
    "- A dictionary is a collection which is unordered, changeable and does not allow duplicates.\n",
    "- Dictionaries are written within { } and in keys:values format.\n",
    "- Elements can be accessed using key name.\n",
    "- only the contents of value can be changed."
   ]
  },
  {
   "cell_type": "code",
   "execution_count": 68,
   "metadata": {},
   "outputs": [
    {
     "data": {
      "text/plain": [
       "{1990: 30, 'Branch': 'CSE', 'Count': 60, 'Name': 'PES'}"
      ]
     },
     "execution_count": 68,
     "metadata": {},
     "output_type": "execute_result"
    }
   ],
   "source": [
    "College={'Name':'PES','Branch':'CSE','Count':60,1990:30}\n",
    "# keys : Name, Branch, COunt, 1990\n",
    "# values: PES, Branch, CSE, 30\n",
    "College"
   ]
  },
  {
   "cell_type": "code",
   "execution_count": 71,
   "metadata": {},
   "outputs": [
    {
     "data": {
      "text/plain": [
       "30"
      ]
     },
     "execution_count": 71,
     "metadata": {},
     "output_type": "execute_result"
    }
   ],
   "source": [
    "# to acces values we should use keys\n",
    "College['Name'] # values associated with key is accessed\n",
    "College[1990]"
   ]
  },
  {
   "cell_type": "code",
   "execution_count": 73,
   "metadata": {},
   "outputs": [
    {
     "name": "stdout",
     "output_type": "stream",
     "text": [
      "<class 'dict'>\n",
      "{'Branch': ['CSE', 'ECE', 'MECH'], 'Count': [60, 30, 90], 3: 4, 4: 5}\n"
     ]
    },
    {
     "data": {
      "text/plain": [
       "['CSE', 'ECE', 'MECH']"
      ]
     },
     "execution_count": 73,
     "metadata": {},
     "output_type": "execute_result"
    }
   ],
   "source": [
    "PES={'Branch':['CSE','ECE','MECH'],'Count':[60,30,90],3:4,4:5}\n",
    "print(type(PES))\n",
    "print(PES)\n",
    "PES['Branch']"
   ]
  },
  {
   "cell_type": "code",
   "execution_count": 74,
   "metadata": {},
   "outputs": [
    {
     "data": {
      "text/plain": [
       "'MECH'"
      ]
     },
     "execution_count": 74,
     "metadata": {},
     "output_type": "execute_result"
    }
   ],
   "source": [
    "PES['Branch'][2] # contetnt indexing"
   ]
  },
  {
   "cell_type": "code",
   "execution_count": 75,
   "metadata": {},
   "outputs": [
    {
     "data": {
      "text/plain": [
       "dict_keys(['Branch', 'Count', 3, 4])"
      ]
     },
     "execution_count": 75,
     "metadata": {},
     "output_type": "execute_result"
    }
   ],
   "source": [
    "#to get list of all keys\n",
    "PES.keys()"
   ]
  },
  {
   "cell_type": "code",
   "execution_count": 76,
   "metadata": {},
   "outputs": [
    {
     "data": {
      "text/plain": [
       "dict_values([['CSE', 'ECE', 'MECH'], [60, 30, 90], 4, 5])"
      ]
     },
     "execution_count": 76,
     "metadata": {},
     "output_type": "execute_result"
    }
   ],
   "source": [
    "PES.values()"
   ]
  },
  {
   "cell_type": "code",
   "execution_count": 77,
   "metadata": {},
   "outputs": [
    {
     "name": "stdout",
     "output_type": "stream",
     "text": [
      "{'Branch': ['CSE', 'ECE', 'MECH'], 'Count': 23, 3: 4, 4: 5}\n"
     ]
    }
   ],
   "source": [
    "PES['Count']=23  # new value replaced in Count key value\n",
    "print(PES)"
   ]
  },
  {
   "cell_type": "code",
   "execution_count": 78,
   "metadata": {},
   "outputs": [],
   "source": [
    "PES['year']=1990 # adding ney element key and value to the dict"
   ]
  },
  {
   "cell_type": "code",
   "execution_count": 79,
   "metadata": {},
   "outputs": [
    {
     "data": {
      "text/plain": [
       "{3: 4, 4: 5, 'Branch': ['CSE', 'ECE', 'MECH'], 'Count': 23, 'year': 1990}"
      ]
     },
     "execution_count": 79,
     "metadata": {},
     "output_type": "execute_result"
    }
   ],
   "source": [
    "PES"
   ]
  },
  {
   "cell_type": "markdown",
   "metadata": {},
   "source": [
    "### programming in Python\n",
    "if, if else, if elseif else, for, while"
   ]
  },
  {
   "cell_type": "code",
   "execution_count": 86,
   "metadata": {},
   "outputs": [
    {
     "ename": "IndentationError",
     "evalue": "unindent does not match any outer indentation level (<tokenize>, line 6)",
     "output_type": "error",
     "traceback": [
      "\u001b[1;36m  File \u001b[1;32m\"<tokenize>\"\u001b[1;36m, line \u001b[1;32m6\u001b[0m\n\u001b[1;33m    print(T)\u001b[0m\n\u001b[1;37m    ^\u001b[0m\n\u001b[1;31mIndentationError\u001b[0m\u001b[1;31m:\u001b[0m unindent does not match any outer indentation level\n"
     ]
    }
   ],
   "source": [
    "# if (condition true)\n",
    "# execute statement inside if \n",
    "T=int(input('enter temp t='))\n",
    "if (T>30):\n",
    "    print('print temp hot') # statemnts within the if condition, should follow strict identation\n",
    "    print(T)\n",
    "    print(type(T))\n",
    "print('code completion') # this statemtn is outside the if conditon body"
   ]
  },
  {
   "cell_type": "code",
   "execution_count": 90,
   "metadata": {},
   "outputs": [
    {
     "ename": "IndentationError",
     "evalue": "unindent does not match any outer indentation level (<tokenize>, line 4)",
     "output_type": "error",
     "traceback": [
      "\u001b[1;36m  File \u001b[1;32m\"<tokenize>\"\u001b[1;36m, line \u001b[1;32m4\u001b[0m\n\u001b[1;33m    print(T) #IndentationError: unindent does not match any outer indentation level\u001b[0m\n\u001b[1;37m    ^\u001b[0m\n\u001b[1;31mIndentationError\u001b[0m\u001b[1;31m:\u001b[0m unindent does not match any outer indentation level\n"
     ]
    }
   ],
   "source": [
    "T=int(input('enter temp t='))\n",
    "if (T>30):\n",
    "    print(' temp hot') # statemnts within the if condition, should follow strict identation\n",
    " print(T) #IndentationError: unindent does not match any outer indentation level\n",
    "    print(type(T))\n",
    "print('code completion') # this statemtn is outside the if conditon body"
   ]
  },
  {
   "cell_type": "code",
   "execution_count": 89,
   "metadata": {},
   "outputs": [
    {
     "name": "stdout",
     "output_type": "stream",
     "text": [
      "enter temp t=45\n",
      "print temp hot\n",
      " it's hot \n",
      "code completion\n"
     ]
    }
   ],
   "source": [
    "# IF ELSE if the condition is true run the if body else run the else body\n",
    "T=int(input('enter temp t='))\n",
    "if (T>30):\n",
    "    print(' temp hot') \n",
    "    print(\" it's hot \")\n",
    "else:\n",
    "    print('Normal')\n",
    "print('code completion') # this statemtn is outside the if conditon body"
   ]
  },
  {
   "cell_type": "code",
   "execution_count": 95,
   "metadata": {},
   "outputs": [
    {
     "name": "stdout",
     "output_type": "stream",
     "text": [
      "enter temp t=15\n",
      "COlD\n",
      "code completion\n"
     ]
    }
   ],
   "source": [
    "# IF ELif else # multiple condition check\n",
    "#T>30: Hot\n",
    "#T>=20 and <30 Normal\n",
    "#<20 >5 cold\n",
    "#<=5 chilled\n",
    "T=int(input('enter temp t='))\n",
    "if (T>30):\n",
    "    print('print temp hot') \n",
    "elif(T>20 and T<=30):\n",
    "    print('Normal')\n",
    "elif (T<=20 and T>5):\n",
    "    print('COlD')\n",
    "else:\n",
    "    print('CHilled')\n",
    "print('code completion') # this statemtn is outside the if conditon body"
   ]
  },
  {
   "cell_type": "code",
   "execution_count": null,
   "metadata": {},
   "outputs": [],
   "source": [
    "# ask the user to enter the score between 0-100, based on score give the garding\n",
    "0-34 Fail\n",
    "35-49 pass\n",
    "50-59 pass with SC\n",
    "60-69 pass with FC\n",
    "70> FCD\n"
   ]
  },
  {
   "cell_type": "code",
   "execution_count": null,
   "metadata": {},
   "outputs": [],
   "source": [
    "ASK the user to enter Height, Weight Age, and name\n",
    "Calculate BMI\n",
    "using BMI and Age grade the person health status as\n",
    "Healthy Obess\n",
    "underweight overweight"
   ]
  },
  {
   "cell_type": "code",
   "execution_count": 96,
   "metadata": {},
   "outputs": [
    {
     "name": "stdout",
     "output_type": "stream",
     "text": [
      "0\n",
      "1\n",
      "2\n",
      "3\n",
      "4\n"
     ]
    }
   ],
   "source": [
    "# For loop\n",
    "#used for iterating loops at specified iterations\n",
    "# here loop iterate from i=0 to 4 with inc by 1\n",
    "for i in range(5):\n",
    "    print(i)\n"
   ]
  },
  {
   "cell_type": "code",
   "execution_count": 97,
   "metadata": {},
   "outputs": [
    {
     "name": "stdout",
     "output_type": "stream",
     "text": [
      "0\n",
      "1\n",
      "2\n",
      "3\n",
      "4\n"
     ]
    }
   ],
   "source": [
    "# here loop iterate from i=0 to 4 with inc by 1\n",
    "for i in range(0,5):\n",
    "    print(i)"
   ]
  },
  {
   "cell_type": "code",
   "execution_count": 98,
   "metadata": {},
   "outputs": [
    {
     "name": "stdout",
     "output_type": "stream",
     "text": [
      "0\n",
      "1\n",
      "2\n",
      "3\n",
      "4\n"
     ]
    }
   ],
   "source": [
    "# here loop iterate from i=0 to 4 with inc by 1\n",
    "for i in range(0,5,1):\n",
    "    print(i)"
   ]
  },
  {
   "cell_type": "code",
   "execution_count": 99,
   "metadata": {},
   "outputs": [
    {
     "name": "stdout",
     "output_type": "stream",
     "text": [
      "0\n",
      "2\n",
      "4\n"
     ]
    }
   ],
   "source": [
    "# here loop iterate from i=0 to 4 with inc by 2\n",
    "for i in range(0,5,2):\n",
    "    print(i)"
   ]
  },
  {
   "cell_type": "code",
   "execution_count": 100,
   "metadata": {},
   "outputs": [
    {
     "name": "stdout",
     "output_type": "stream",
     "text": [
      "5\n",
      "4\n",
      "3\n",
      "2\n",
      "1\n"
     ]
    }
   ],
   "source": [
    "# here loop iterate from i=5 to 1 with dec by 1\n",
    "for i in range(5,0,-1):\n",
    "    print(i)"
   ]
  },
  {
   "cell_type": "code",
   "execution_count": 103,
   "metadata": {},
   "outputs": [
    {
     "name": "stdout",
     "output_type": "stream",
     "text": [
      "enter the value of n=10\n",
      "sum of first 10 numbers is 55\n"
     ]
    }
   ],
   "source": [
    "# find sum of n numbers\n",
    "n= int(input('enter the value of n='))\n",
    "S=0\n",
    "for i in range(1,n+1):\n",
    "    S=S+i\n",
    "print('sum of first', n, 'numbers is', S)"
   ]
  },
  {
   "cell_type": "code",
   "execution_count": null,
   "metadata": {},
   "outputs": [],
   "source": [
    "# WAP to find factorial of number using for loop\n",
    "# gen fibonacci series for n numbers using for loop\n",
    "# write all above programs using while loop\n",
    "# write examples for each operators in Python"
   ]
  },
  {
   "cell_type": "markdown",
   "metadata": {},
   "source": [
    "# summary \n",
    "- Strings , creating, accessing, slicing, we can not update strings\n",
    "- List, creation, accessing, slicing, updating, methods\n",
    "- tuples, creation, accessing, immutable\n",
    "- dictionary, creation, KEYS and Values, accessing KEYS, updating\n",
    "- Flow constructs, if, if else, if elif, for loops along with examples"
   ]
  },
  {
   "cell_type": "code",
   "execution_count": null,
   "metadata": {},
   "outputs": [],
   "source": []
  }
 ],
 "metadata": {
  "kernelspec": {
   "display_name": "Python 3",
   "language": "python",
   "name": "python3"
  },
  "language_info": {
   "codemirror_mode": {
    "name": "ipython",
    "version": 3
   },
   "file_extension": ".py",
   "mimetype": "text/x-python",
   "name": "python",
   "nbconvert_exporter": "python",
   "pygments_lexer": "ipython3",
   "version": "3.6.4"
  }
 },
 "nbformat": 4,
 "nbformat_minor": 2
}
