{
 "cells": [
  {
   "cell_type": "markdown",
   "metadata": {},
   "source": [
    "### LISTS in python\n",
    " - Lists are datatypes used to store sequence of data both numeric and string data\n",
    " EG: A=[1,2,3,45,67]"
   ]
  },
  {
   "cell_type": "code",
   "execution_count": 3,
   "metadata": {},
   "outputs": [
    {
     "name": "stdout",
     "output_type": "stream",
     "text": [
      "[1, 2, 3, 45, 67]\n",
      "<class 'list'>\n"
     ]
    }
   ],
   "source": [
    "A=[1,2,3,45,67]\n",
    "print(A)\n",
    "print(type(A))"
   ]
  },
  {
   "cell_type": "code",
   "execution_count": 4,
   "metadata": {},
   "outputs": [
    {
     "name": "stdout",
     "output_type": "stream",
     "text": [
      "['PESIT', 'CSE', 'ABEYAANTRIX']\n",
      "<class 'list'>\n"
     ]
    }
   ],
   "source": [
    "B=['PESIT', 'CSE', 'ABEYAANTRIX']\n",
    "print(B)\n",
    "print(type(B))"
   ]
  },
  {
   "cell_type": "code",
   "execution_count": 5,
   "metadata": {},
   "outputs": [
    {
     "name": "stdout",
     "output_type": "stream",
     "text": [
      "['PESIT', 'YEAR', 2021, 2022]\n",
      "<class 'list'>\n"
     ]
    }
   ],
   "source": [
    "C=['PESIT', 'YEAR', 2021, 2022]\n",
    "print(C)\n",
    "print(type(C))"
   ]
  },
  {
   "cell_type": "code",
   "execution_count": 6,
   "metadata": {},
   "outputs": [
    {
     "name": "stdout",
     "output_type": "stream",
     "text": [
      "[[1, 2, 3, 45, 67], ['PESIT', 'CSE', 'ABEYAANTRIX']]\n"
     ]
    }
   ],
   "source": [
    "D=[A,B]\n",
    "print(D)"
   ]
  },
  {
   "cell_type": "code",
   "execution_count": null,
   "metadata": {},
   "outputs": [],
   "source": [
    "E=['Shimoga', 'DVG', 'BLR', [250, 90, 270]]"
   ]
  },
  {
   "cell_type": "markdown",
   "metadata": {},
   "source": [
    "### Accessing content of the list"
   ]
  },
  {
   "cell_type": "markdown",
   "metadata": {},
   "source": [
    "-        0        1      2      3\n",
    "**** C=['PESIT', 'YEAR', 2021, 2022]\n",
    "-        -4       -3    -2     -1\n",
    "- print(C)\n",
    "- python list uses both positive and negative insexing\n",
    " \n"
   ]
  },
  {
   "cell_type": "code",
   "execution_count": 8,
   "metadata": {},
   "outputs": [
    {
     "data": {
      "text/plain": [
       "'PESIT'"
      ]
     },
     "execution_count": 8,
     "metadata": {},
     "output_type": "execute_result"
    }
   ],
   "source": [
    "C=['PESIT', 'YEAR', 2021, 2022]\n",
    "\n",
    "C[0]"
   ]
  },
  {
   "cell_type": "code",
   "execution_count": 9,
   "metadata": {},
   "outputs": [
    {
     "data": {
      "text/plain": [
       "['PESIT', 'YEAR']"
      ]
     },
     "execution_count": 9,
     "metadata": {},
     "output_type": "execute_result"
    }
   ],
   "source": [
    "# slicing operator :\n",
    "C[0:2]    "
   ]
  },
  {
   "cell_type": "code",
   "execution_count": 10,
   "metadata": {},
   "outputs": [
    {
     "data": {
      "text/plain": [
       "2022"
      ]
     },
     "execution_count": 10,
     "metadata": {},
     "output_type": "execute_result"
    }
   ],
   "source": [
    "C[3]"
   ]
  },
  {
   "cell_type": "code",
   "execution_count": 11,
   "metadata": {},
   "outputs": [
    {
     "data": {
      "text/plain": [
       "2022"
      ]
     },
     "execution_count": 11,
     "metadata": {},
     "output_type": "execute_result"
    }
   ],
   "source": [
    "C[-1]"
   ]
  },
  {
   "cell_type": "code",
   "execution_count": 13,
   "metadata": {},
   "outputs": [
    {
     "data": {
      "text/plain": [
       "[2021, 2022]"
      ]
     },
     "execution_count": 13,
     "metadata": {},
     "output_type": "execute_result"
    }
   ],
   "source": [
    "C[2:4]"
   ]
  },
  {
   "cell_type": "code",
   "execution_count": 17,
   "metadata": {},
   "outputs": [
    {
     "data": {
      "text/plain": [
       "['YEAR', 2021]"
      ]
     },
     "execution_count": 17,
     "metadata": {},
     "output_type": "execute_result"
    }
   ],
   "source": [
    "C[-3:-1]"
   ]
  },
  {
   "cell_type": "code",
   "execution_count": 15,
   "metadata": {},
   "outputs": [
    {
     "data": {
      "text/plain": [
       "[2021, 2022]"
      ]
     },
     "execution_count": 15,
     "metadata": {},
     "output_type": "execute_result"
    }
   ],
   "source": [
    "C[-2:]"
   ]
  },
  {
   "cell_type": "code",
   "execution_count": 16,
   "metadata": {},
   "outputs": [
    {
     "data": {
      "text/plain": [
       "[2021, 2022]"
      ]
     },
     "execution_count": 16,
     "metadata": {},
     "output_type": "execute_result"
    }
   ],
   "source": [
    "C[2:]"
   ]
  },
  {
   "cell_type": "code",
   "execution_count": 18,
   "metadata": {},
   "outputs": [],
   "source": [
    "P=['smg', 'dvg', 'blr', 'mys', 'klr', 'mdy', 'bgk', 'bgm']"
   ]
  },
  {
   "cell_type": "code",
   "execution_count": 31,
   "metadata": {},
   "outputs": [
    {
     "name": "stdout",
     "output_type": "stream",
     "text": [
      "['smg', 'dvg', 'blr', 'mys']\n",
      "['smg', 'dvg', 'blr', 'mys']\n",
      "['klr', 'mdy', 'bgk', 'bgm']\n",
      "['klr', 'mdy', 'bgk', 'bgm']\n",
      "['blr', 'mys', 'klr']\n",
      "['blr', 'mys', 'klr']\n",
      "['dvg', 'blr', 'mys', 'klr', 'mdy', 'bgk']\n",
      "['dvg', 'blr', 'mys', 'klr', 'mdy', 'bgk']\n"
     ]
    }
   ],
   "source": [
    "print(P[0:4])# access first 4 city\n",
    "print(P[-8:-4])\n",
    "print(P[4:])# access last 4 cities\n",
    "print(P[-4:])\n",
    "print(P[2:5])# access blr, mys and klr cities\n",
    "print(P[-6:-3])\n",
    "print(P[1:7])# access all cities except first and last city\n",
    "print(P[1:-1])"
   ]
  },
  {
   "cell_type": "markdown",
   "metadata": {},
   "source": [
    "### List methods"
   ]
  },
  {
   "cell_type": "code",
   "execution_count": 34,
   "metadata": {},
   "outputs": [
    {
     "name": "stdout",
     "output_type": "stream",
     "text": [
      "['smg', 'dvg', 'blr', 'mys', 'klr', 'mdy', 'bgk', 'bgm', 'CDG', ['BLY', 'KPL', ' MDK']]\n"
     ]
    }
   ],
   "source": [
    "P=['smg', 'dvg', 'blr', 'mys', 'klr', 'mdy', 'bgk', 'bgm']\n",
    "# want to add new city\n",
    "# append method\n",
    "P.append('CDG')\n",
    "# we can add a complete list to original list\n",
    "G=['BLY', 'KPL', ' MDK']\n",
    "P.append(G)\n",
    "print(P)"
   ]
  },
  {
   "cell_type": "code",
   "execution_count": 35,
   "metadata": {},
   "outputs": [
    {
     "name": "stdout",
     "output_type": "stream",
     "text": [
      "['smg', 'dvg', 'blr', 'mys', 'klr', 'mdy', 'bgk', 'bgm', 'CDG', 'BLY', 'KPL', ' MDK']\n"
     ]
    }
   ],
   "source": [
    "P=['smg', 'dvg', 'blr', 'mys', 'klr', 'mdy', 'bgk', 'bgm']\n",
    "# want to add new city\n",
    "# append method\n",
    "P.append('CDG')\n",
    "# we can add a complete list to original list\n",
    "G=['BLY', 'KPL', ' MDK']\n",
    "P.extend(G)\n",
    "print(P)"
   ]
  },
  {
   "cell_type": "code",
   "execution_count": 40,
   "metadata": {},
   "outputs": [
    {
     "name": "stdout",
     "output_type": "stream",
     "text": [
      "['smg', 'dvg', 'blr', 'mys', 'klr', 'mdy', 'bgk', 'bgm', 'CDG', 'BLY', 'KPL', ' MDK']\n",
      "['smg', 'dvg', 'blr', 'RAJ', 'klr', 'mdy', 'bgk', 'bgm', 'CDG', 'BLY', 'KPL', ' MDK']\n"
     ]
    }
   ],
   "source": [
    "print(P)\n",
    "P[3]='RAJ'\n",
    "print(P)"
   ]
  },
  {
   "cell_type": "code",
   "execution_count": null,
   "metadata": {},
   "outputs": [],
   "source": [
    "# insert, concat, pop"
   ]
  },
  {
   "cell_type": "markdown",
   "metadata": {},
   "source": [
    "#### TUPLES  \n",
    "    - tuples similar to list but they are immutable\n",
    "    we can not modify the content of the tuple"
   ]
  },
  {
   "cell_type": "code",
   "execution_count": 36,
   "metadata": {},
   "outputs": [
    {
     "name": "stdout",
     "output_type": "stream",
     "text": [
      "('smg', 'dvg', 'blr', 'mys', 'klr', 'mdy', 'bgk', 'bgm')\n",
      "<class 'tuple'>\n"
     ]
    }
   ],
   "source": [
    "T=('smg', 'dvg', 'blr', 'mys', 'klr', 'mdy', 'bgk', 'bgm')\n",
    "print(T)\n",
    "print(type(T))"
   ]
  },
  {
   "cell_type": "code",
   "execution_count": 37,
   "metadata": {},
   "outputs": [
    {
     "data": {
      "text/plain": [
       "('dvg', 'blr', 'mys')"
      ]
     },
     "execution_count": 37,
     "metadata": {},
     "output_type": "execute_result"
    }
   ],
   "source": [
    "T[1:4]"
   ]
  },
  {
   "cell_type": "code",
   "execution_count": 38,
   "metadata": {},
   "outputs": [
    {
     "data": {
      "text/plain": [
       "('klr', 'mdy', 'bgk', 'bgm')"
      ]
     },
     "execution_count": 38,
     "metadata": {},
     "output_type": "execute_result"
    }
   ],
   "source": [
    "T[4:]\n"
   ]
  },
  {
   "cell_type": "code",
   "execution_count": 39,
   "metadata": {},
   "outputs": [
    {
     "data": {
      "text/plain": [
       "('klr', 'mdy', 'bgk', 'bgm')"
      ]
     },
     "execution_count": 39,
     "metadata": {},
     "output_type": "execute_result"
    }
   ],
   "source": [
    "T[-4:]"
   ]
  },
  {
   "cell_type": "code",
   "execution_count": 41,
   "metadata": {},
   "outputs": [
    {
     "name": "stdout",
     "output_type": "stream",
     "text": [
      "('smg', 'dvg', 'blr', 'mys', 'klr', 'mdy', 'bgk', 'bgm')\n"
     ]
    },
    {
     "ename": "TypeError",
     "evalue": "'tuple' object does not support item assignment",
     "output_type": "error",
     "traceback": [
      "\u001b[1;31m---------------------------------------------------------------------------\u001b[0m",
      "\u001b[1;31mTypeError\u001b[0m                                 Traceback (most recent call last)",
      "\u001b[1;32m<ipython-input-41-1e712b6d8519>\u001b[0m in \u001b[0;36m<module>\u001b[1;34m()\u001b[0m\n\u001b[0;32m      1\u001b[0m \u001b[0mprint\u001b[0m\u001b[1;33m(\u001b[0m\u001b[0mT\u001b[0m\u001b[1;33m)\u001b[0m\u001b[1;33m\u001b[0m\u001b[0m\n\u001b[1;32m----> 2\u001b[1;33m \u001b[0mT\u001b[0m\u001b[1;33m[\u001b[0m\u001b[1;36m3\u001b[0m\u001b[1;33m]\u001b[0m\u001b[1;33m=\u001b[0m\u001b[1;34m'MJS'\u001b[0m\u001b[1;33m\u001b[0m\u001b[0m\n\u001b[0m\u001b[0;32m      3\u001b[0m \u001b[0mprint\u001b[0m\u001b[1;33m(\u001b[0m\u001b[0mT\u001b[0m\u001b[1;33m)\u001b[0m\u001b[1;33m\u001b[0m\u001b[0m\n",
      "\u001b[1;31mTypeError\u001b[0m: 'tuple' object does not support item assignment"
     ]
    }
   ],
   "source": [
    "print(T)\n",
    "T[3]='MJS'\n",
    "print(T)"
   ]
  },
  {
   "cell_type": "code",
   "execution_count": 42,
   "metadata": {},
   "outputs": [
    {
     "ename": "AttributeError",
     "evalue": "'tuple' object has no attribute 'append'",
     "output_type": "error",
     "traceback": [
      "\u001b[1;31m---------------------------------------------------------------------------\u001b[0m",
      "\u001b[1;31mAttributeError\u001b[0m                            Traceback (most recent call last)",
      "\u001b[1;32m<ipython-input-42-fbb373cf7553>\u001b[0m in \u001b[0;36m<module>\u001b[1;34m()\u001b[0m\n\u001b[1;32m----> 1\u001b[1;33m \u001b[0mT\u001b[0m\u001b[1;33m.\u001b[0m\u001b[0mappend\u001b[0m\u001b[1;33m(\u001b[0m\u001b[1;34m'mjs'\u001b[0m\u001b[1;33m)\u001b[0m\u001b[1;33m\u001b[0m\u001b[0m\n\u001b[0m",
      "\u001b[1;31mAttributeError\u001b[0m: 'tuple' object has no attribute 'append'"
     ]
    }
   ],
   "source": [
    "T.append('mjs')"
   ]
  },
  {
   "cell_type": "markdown",
   "metadata": {},
   "source": [
    "### Strings"
   ]
  },
  {
   "cell_type": "code",
   "execution_count": 45,
   "metadata": {},
   "outputs": [
    {
     "name": "stdout",
     "output_type": "stream",
     "text": [
      "HELLO PESIT CSE STUDENTS\n",
      "HELLO\n",
      "PESIT\n",
      "HELLO\n"
     ]
    }
   ],
   "source": [
    "# list is sequence of characters\n",
    "M='HELLO PESIT CSE STUDENTS'\n",
    "print(M)\n",
    "print(M[0:5]) # hello\n",
    "print(M[6:11])             # pesit\n",
    "print(M[-24: -19])"
   ]
  },
  {
   "cell_type": "code",
   "execution_count": 46,
   "metadata": {},
   "outputs": [],
   "source": [
    "K=M.split()"
   ]
  },
  {
   "cell_type": "code",
   "execution_count": 48,
   "metadata": {},
   "outputs": [
    {
     "name": "stdout",
     "output_type": "stream",
     "text": [
      "HELLO PESIT CSE STUDENTS\n",
      "<class 'str'>\n",
      "['HELLO', 'PESIT', 'CSE', 'STUDENTS']\n",
      "<class 'list'>\n"
     ]
    }
   ],
   "source": [
    "print(M)\n",
    "print(type(M))\n",
    "print(K)\n",
    "print(type(K))"
   ]
  },
  {
   "cell_type": "code",
   "execution_count": 54,
   "metadata": {},
   "outputs": [
    {
     "name": "stdout",
     "output_type": "stream",
     "text": [
      "rajesh krishna \n"
     ]
    }
   ],
   "source": [
    "# add strings \n",
    "m='rajesh'\n",
    "n=' krishna '\n",
    "H=m+n\n",
    "print(H)"
   ]
  },
  {
   "cell_type": "code",
   "execution_count": 55,
   "metadata": {},
   "outputs": [
    {
     "name": "stdout",
     "output_type": "stream",
     "text": [
      "rajesh krishna rajesh krishna rajesh krishna \n"
     ]
    }
   ],
   "source": [
    "print(H*3)"
   ]
  },
  {
   "cell_type": "code",
   "execution_count": 61,
   "metadata": {},
   "outputs": [
    {
     "name": "stdout",
     "output_type": "stream",
     "text": [
      "NANDAN laskhmi putra PriyaDarshini hello \n",
      "nandan LASKHMI PUTRA priyadarshini hello \n",
      "PNANDANrNANDANiNANDANyNANDANaNANDANDNANDANaNANDANrNANDANsNANDANhNANDANiNANDANnNANDANiNANDAN NANDANhNANDANeNANDANlNANDANlNANDANoNANDAN \n"
     ]
    }
   ],
   "source": [
    "Z='PriyaDarshini hello '\n",
    "Y='laskhmi putra'\n",
    "X='NANDAN'\n",
    "\n",
    "print(X, Y, Z)\n",
    "print(X.lower(), Y.upper(), Z.lower())\n",
    "# replace, find, join\n",
    "print(X.join(Z))"
   ]
  },
  {
   "cell_type": "code",
   "execution_count": 62,
   "metadata": {},
   "outputs": [
    {
     "name": "stdout",
     "output_type": "stream",
     "text": [
      "priyaNANDANdarshiniNANDANrachna\n"
     ]
    }
   ],
   "source": [
    "z=['priya', 'darshini', 'rachna']\n",
    "print(X.join(z))"
   ]
  },
  {
   "cell_type": "code",
   "execution_count": 69,
   "metadata": {},
   "outputs": [
    {
     "name": "stdout",
     "output_type": "stream",
     "text": [
      "['priya', 'darshini', 'rachna']\n",
      "priya darshini rachna\n",
      "<class 'str'>\n",
      "priya darshnini rachna\n",
      "<class 'str'>\n",
      "['priya', 'darshnini', 'rachna']\n"
     ]
    }
   ],
   "source": [
    "z=['priya', 'darshini', 'rachna']\n",
    "x=' '.join(z)\n",
    "print(z)\n",
    "print(x)\n",
    "print(type(x))\n",
    "y='priya darshnini rachna'\n",
    "print(y)\n",
    "print(type(y))\n",
    "u=y.split()\n",
    "print(u)"
   ]
  },
  {
   "cell_type": "markdown",
   "metadata": {},
   "source": [
    "### Dictionary"
   ]
  },
  {
   "cell_type": "code",
   "execution_count": 71,
   "metadata": {},
   "outputs": [
    {
     "data": {
      "text/plain": [
       "90"
      ]
     },
     "execution_count": 71,
     "metadata": {},
     "output_type": "execute_result"
    }
   ],
   "source": [
    "#D={'key': value}\n",
    "College={'CSE':60, 'ECE':90, 'EEE':120}\n",
    "# here cse ece eee are called keys\n",
    "# values associated with these keys are 60 90 and 120\n",
    "# to acces these values we will use keys\n",
    "College['CSE']\n",
    "College['ECE']\n"
   ]
  },
  {
   "cell_type": "code",
   "execution_count": 73,
   "metadata": {},
   "outputs": [
    {
     "name": "stdout",
     "output_type": "stream",
     "text": [
      "{'Branch': ['CSE', 'ECE', 'EEE'], 'count': [60, 90, 120], 'Location': 'Shimoga', 'Fee': [60, 65, 55]}\n"
     ]
    }
   ],
   "source": [
    "PESIT={'Branch':['CSE', 'ECE','EEE'], 'count':[60,90,120], 'Location':'Shimoga', 'Fee':[60, 65, 55]}\n",
    "print(PESIT)"
   ]
  },
  {
   "cell_type": "code",
   "execution_count": 74,
   "metadata": {},
   "outputs": [
    {
     "data": {
      "text/plain": [
       "['CSE', 'ECE', 'EEE']"
      ]
     },
     "execution_count": 74,
     "metadata": {},
     "output_type": "execute_result"
    }
   ],
   "source": [
    "PESIT['Branch']"
   ]
  },
  {
   "cell_type": "code",
   "execution_count": 77,
   "metadata": {},
   "outputs": [
    {
     "data": {
      "text/plain": [
       "[90, 120]"
      ]
     },
     "execution_count": 77,
     "metadata": {},
     "output_type": "execute_result"
    }
   ],
   "source": [
    "PESIT['count'][1:]"
   ]
  },
  {
   "cell_type": "code",
   "execution_count": null,
   "metadata": {},
   "outputs": [],
   "source": [
    "# add new branch,  how to add it\n",
    "'MECH'\n",
    "# want to add 2 more branches\n",
    "'CIVIL', 'ISE'"
   ]
  },
  {
   "cell_type": "code",
   "execution_count": null,
   "metadata": {},
   "outputs": [],
   "source": [
    "#LIST, TUPLES, strings, Dictionry"
   ]
  }
 ],
 "metadata": {
  "kernelspec": {
   "display_name": "Python 3",
   "language": "python",
   "name": "python3"
  },
  "language_info": {
   "codemirror_mode": {
    "name": "ipython",
    "version": 3
   },
   "file_extension": ".py",
   "mimetype": "text/x-python",
   "name": "python",
   "nbconvert_exporter": "python",
   "pygments_lexer": "ipython3",
   "version": "3.6.4"
  }
 },
 "nbformat": 4,
 "nbformat_minor": 2
}
