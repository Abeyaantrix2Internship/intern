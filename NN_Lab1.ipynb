{
  "nbformat": 4,
  "nbformat_minor": 0,
  "metadata": {
    "colab": {
      "name": "NN Lab1.ipynb",
      "provenance": [],
      "collapsed_sections": []
    },
    "kernelspec": {
      "name": "python3",
      "display_name": "Python 3"
    },
    "language_info": {
      "name": "python"
    }
  },
  "cells": [
    {
      "cell_type": "code",
      "metadata": {
        "colab": {
          "base_uri": "https://localhost:8080/"
        },
        "id": "TEcYIrRLP4jK",
        "outputId": "64e6d82d-bde9-46c9-fefb-80a94af6f556"
      },
      "source": [
        "import keras        # ANN\n",
        "import numpy as np\n",
        "import pandas as pd\n",
        "print('lib imported')\n",
        "# pip install tensorflow\n",
        "# pip install keras"
      ],
      "execution_count": 3,
      "outputs": [
        {
          "output_type": "stream",
          "name": "stdout",
          "text": [
            "lib imported\n"
          ]
        }
      ]
    },
    {
      "cell_type": "code",
      "metadata": {
        "id": "FbywkTFnQa5L"
      },
      "source": [
        "from keras.models import Sequential # type of NN we are building\n",
        "from keras.layers import Dense  # input layer, hidden and output\n",
        "from keras.utils.vis_utils import plot_model\n"
      ],
      "execution_count": 4,
      "outputs": []
    },
    {
      "cell_type": "code",
      "metadata": {
        "id": "MKoKfclVQa7b"
      },
      "source": [
        "Input = np.array([-1.0,  0.0, 1.0, 2.0, 3.0, 4.0], dtype=float)\n",
        "Output = np.array([-3.0, -1.0, 1.0, 3.0, 5.0, 7.0], dtype=float)\n",
        "print(Input)\n",
        "print(Output)\n",
        "#output=2*input-1"
      ],
      "execution_count": null,
      "outputs": []
    },
    {
      "cell_type": "markdown",
      "metadata": {
        "id": "LLtgYQcpFW-K"
      },
      "source": [
        "# neural network creation( BUilding architecture)"
      ]
    },
    {
      "cell_type": "code",
      "metadata": {
        "id": "0LMezUJYQa98"
      },
      "source": [
        "model=Sequential() # create the object\n",
        "model.add(Dense(units=1, input_shape=[1])) # to add layers use add method ,input shape=1 indicates 1 input aand units=1 indicates 1 output"
      ],
      "execution_count": 12,
      "outputs": []
    },
    {
      "cell_type": "code",
      "metadata": {
        "id": "kV2NcLS59SvB"
      },
      "source": [
        ""
      ],
      "execution_count": 12,
      "outputs": []
    },
    {
      "cell_type": "code",
      "metadata": {
        "id": "UW7TVMLLFi8D"
      },
      "source": [
        "model.compile(optimizer='sgd',loss='mean_squared_error')# optimizer"
      ],
      "execution_count": 13,
      "outputs": []
    },
    {
      "cell_type": "code",
      "metadata": {
        "id": "e38ef0LDQbBb"
      },
      "source": [
        "model.summary()\n",
        "plot_model(model, to_file='model_plot.png', show_shapes=True, show_layer_names=True)"
      ],
      "execution_count": null,
      "outputs": []
    },
    {
      "cell_type": "code",
      "metadata": {
        "id": "9466-NIaTDFt"
      },
      "source": [
        "model.fit(Input, Output, epochs=200) # traingning\n",
        "#1st\n",
        "#5 +1\n",
        "# 50+6 epoch\n",
        "# 200+56\n",
        "\n",
        "weights = model.get_weights()\n",
        "weights"
      ],
      "execution_count": null,
      "outputs": []
    },
    {
      "cell_type": "code",
      "metadata": {
        "id": "MDx3z_G32bw5"
      },
      "source": [
        "# [-0.13767551]], dtype=float32), array([0.05051702]\n",
        "#output =2*input-1\n",
        "#array([[0.6228089]], dtype=float32), array([0.20782809]\n",
        "#[array([[1.710504]], dtype=float32), array([-0.11008833]\n",
        "#[1.9639477]], dtype=float32), array([-0.88822603]"
      ],
      "execution_count": null,
      "outputs": []
    },
    {
      "cell_type": "code",
      "metadata": {
        "id": "FpRlly7eQbN7",
        "colab": {
          "base_uri": "https://localhost:8080/"
        },
        "outputId": "23532e73-2a52-431b-add2-c0da264ad62e"
      },
      "source": [
        "model.predict(np.array([4.0]))   # predicting result"
      ],
      "execution_count": 25,
      "outputs": [
        {
          "output_type": "execute_result",
          "data": {
            "text/plain": [
              "array([[6.9675646]], dtype=float32)"
            ]
          },
          "metadata": {},
          "execution_count": 25
        }
      ]
    },
    {
      "cell_type": "code",
      "metadata": {
        "id": "UNLkAjQzQbRJ"
      },
      "source": [
        "#Input = np.array([-1.0,  0.0, 1.0, 2.0, 3.0, 4.0], dtype=float)\n",
        "#Output = np.array([-3.0, -1.0, 1.0, 3.0, 5.0, 7.0], dtype=float)\n",
        "\n",
        "Epoch   Loss  INput       EP    PR\n",
        "2       6.58   4.0       7     2.99    \n",
        "10      1.32   4.0       7     5.56 \n",
        "50      0.53                   6.79\n",
        "200     0.04                   6.97\n",
        "200     0.00005                6.99999"
      ],
      "execution_count": null,
      "outputs": []
    },
    {
      "cell_type": "code",
      "metadata": {
        "id": "cNJanX5lEyb6"
      },
      "source": [
        "Data=pd.read_csv('https://raw.githubusercontent.com/Abeyaantrix2Internship/Intern-data/main/Salary_Data.csv')\n",
        "print(Data)\n",
        "In=Data.iloc[:,0].values\n",
        "Dp=Data.iloc[:,1].values"
      ],
      "execution_count": null,
      "outputs": []
    },
    {
      "cell_type": "code",
      "metadata": {
        "id": "HYL8me6xIZza"
      },
      "source": [
        "# Splitting the dataset into the Training set and Test set\n",
        "from sklearn.model_selection import train_test_split\n",
        "Itrain,Itest, Dtrain, Dtest=train_test_split(In, Dp,test_size=0.2,random_state=0)"
      ],
      "execution_count": null,
      "outputs": []
    },
    {
      "cell_type": "code",
      "metadata": {
        "id": "ISC41PR9FHAj",
        "colab": {
          "base_uri": "https://localhost:8080/"
        },
        "outputId": "0043f1c1-866d-43ce-d486-c6e213c69071"
      },
      "source": [
        "model=Sequential() # create the object\n",
        "model.add(Dense(units=1, input_shape=[1])) # to add layers use add method\n",
        "model.compile(optimizer='sgd',loss='mean_squared_error')# optimizer\n",
        "model.summary()"
      ],
      "execution_count": null,
      "outputs": [
        {
          "output_type": "stream",
          "name": "stdout",
          "text": [
            "Model: \"sequential_3\"\n",
            "_________________________________________________________________\n",
            "Layer (type)                 Output Shape              Param #   \n",
            "=================================================================\n",
            "dense_3 (Dense)              (None, 1)                 2         \n",
            "=================================================================\n",
            "Total params: 2\n",
            "Trainable params: 2\n",
            "Non-trainable params: 0\n",
            "_________________________________________________________________\n"
          ]
        }
      ]
    },
    {
      "cell_type": "code",
      "metadata": {
        "id": "258W_GITHfGE"
      },
      "source": [
        "model.fit(Itrain, Dtrain, epochs=500) # traingning"
      ],
      "execution_count": null,
      "outputs": []
    },
    {
      "cell_type": "code",
      "metadata": {
        "id": "aT5i6PuDHvFM"
      },
      "source": [
        "Ypred=model.predict(Itest)   # predicting result"
      ],
      "execution_count": null,
      "outputs": []
    },
    {
      "cell_type": "code",
      "metadata": {
        "id": "AUwYGl5VH2Qy",
        "colab": {
          "base_uri": "https://localhost:8080/"
        },
        "outputId": "5b62c9c2-50de-4585-ed0c-a9a485551fcc"
      },
      "source": [
        "Ypred"
      ],
      "execution_count": null,
      "outputs": [
        {
          "output_type": "execute_result",
          "data": {
            "text/plain": [
              "array([[ 38254.168],\n",
              "       [124743.3  ],\n",
              "       [ 63807.77 ],\n",
              "       [ 61842.113],\n",
              "       [116880.64 ],\n",
              "       [109017.99 ]], dtype=float32)"
            ]
          },
          "metadata": {},
          "execution_count": 40
        }
      ]
    },
    {
      "cell_type": "code",
      "metadata": {
        "colab": {
          "base_uri": "https://localhost:8080/"
        },
        "id": "UW4umROWJWBi",
        "outputId": "5a4be3b9-111b-419f-9728-e84f1728b4b6"
      },
      "source": [
        "Dtest"
      ],
      "execution_count": null,
      "outputs": [
        {
          "output_type": "execute_result",
          "data": {
            "text/plain": [
              "array([ 37731., 122391.,  57081.,  63218., 116969., 109431.])"
            ]
          },
          "metadata": {},
          "execution_count": 41
        }
      ]
    },
    {
      "cell_type": "code",
      "metadata": {
        "id": "EVx9jtmdJgEd",
        "colab": {
          "base_uri": "https://localhost:8080/",
          "height": 312
        },
        "outputId": "7d69d6f0-277b-45b1-d673-74ac773a8c56"
      },
      "source": [
        "from keras.layers import Dense\n",
        "from keras.utils.vis_utils import plot_model\n",
        "model = Sequential()\n",
        "model.add(Dense(2, input_dim=1, activation='relu'))\n",
        "model.add(Dense(1, activation='sigmoid'))\n",
        "plot_model(model, to_file='model_plot.png', show_shapes=True, show_layer_names=True)"
      ],
      "execution_count": null,
      "outputs": [
        {
          "output_type": "execute_result",
          "data": {
            "image/png": "[encoded data removed]",
            "text/plain": [
              "<IPython.core.display.Image object>"
            ]
          },
          "metadata": {},
          "execution_count": 19
        }
      ]
    },
    {
      "cell_type": "code",
      "metadata": {
        "id": "Cn_NCBueYL-P"
      },
      "source": [
        ""
      ],
      "execution_count": null,
      "outputs": []
    }
  ]
}